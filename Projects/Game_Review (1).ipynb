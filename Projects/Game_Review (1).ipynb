{
  "nbformat": 4,
  "nbformat_minor": 0,
  "metadata": {
    "colab": {
      "name": "Game Review.ipynb",
      "provenance": [],
      "collapsed_sections": [],
      "machine_shape": "hm"
    },
    "kernelspec": {
      "name": "python3",
      "display_name": "Python 3"
    },
    "widgets": {
      "application/vnd.jupyter.widget-state+json": {
        "6fe737aa9a9f46e5902ab00cfeabe68a": {
          "model_module": "@jupyter-widgets/controls",
          "model_name": "HBoxModel",
          "state": {
            "_view_name": "HBoxView",
            "_dom_classes": [],
            "_model_name": "HBoxModel",
            "_view_module": "@jupyter-widgets/controls",
            "_model_module_version": "1.5.0",
            "_view_count": null,
            "_view_module_version": "1.5.0",
            "box_style": "",
            "layout": "IPY_MODEL_b2d39d4709f14be0974f02ebabeaf21b",
            "_model_module": "@jupyter-widgets/controls",
            "children": [
              "IPY_MODEL_c63ef19ee80447e4ac2ee3fbf5a23e50",
              "IPY_MODEL_29736d259e08404db3dcb71ab1eaa21f"
            ]
          }
        },
        "b2d39d4709f14be0974f02ebabeaf21b": {
          "model_module": "@jupyter-widgets/base",
          "model_name": "LayoutModel",
          "state": {
            "_view_name": "LayoutView",
            "grid_template_rows": null,
            "right": null,
            "justify_content": null,
            "_view_module": "@jupyter-widgets/base",
            "overflow": null,
            "_model_module_version": "1.2.0",
            "_view_count": null,
            "flex_flow": null,
            "width": null,
            "min_width": null,
            "border": null,
            "align_items": null,
            "bottom": null,
            "_model_module": "@jupyter-widgets/base",
            "top": null,
            "grid_column": null,
            "overflow_y": null,
            "overflow_x": null,
            "grid_auto_flow": null,
            "grid_area": null,
            "grid_template_columns": null,
            "flex": null,
            "_model_name": "LayoutModel",
            "justify_items": null,
            "grid_row": null,
            "max_height": null,
            "align_content": null,
            "visibility": null,
            "align_self": null,
            "height": null,
            "min_height": null,
            "padding": null,
            "grid_auto_rows": null,
            "grid_gap": null,
            "max_width": null,
            "order": null,
            "_view_module_version": "1.2.0",
            "grid_template_areas": null,
            "object_position": null,
            "object_fit": null,
            "grid_auto_columns": null,
            "margin": null,
            "display": null,
            "left": null
          }
        },
        "c63ef19ee80447e4ac2ee3fbf5a23e50": {
          "model_module": "@jupyter-widgets/controls",
          "model_name": "IntProgressModel",
          "state": {
            "_view_name": "ProgressView",
            "style": "IPY_MODEL_e6ee3aa930034e0bb0e6fade46c479a2",
            "_dom_classes": [],
            "description": "100%",
            "_model_name": "IntProgressModel",
            "bar_style": "success",
            "max": 25539,
            "_view_module": "@jupyter-widgets/controls",
            "_model_module_version": "1.5.0",
            "value": 25539,
            "_view_count": null,
            "_view_module_version": "1.5.0",
            "orientation": "horizontal",
            "min": 0,
            "description_tooltip": null,
            "_model_module": "@jupyter-widgets/controls",
            "layout": "IPY_MODEL_dad5c0297f214dbda9c34c5b5cc20e26"
          }
        },
        "29736d259e08404db3dcb71ab1eaa21f": {
          "model_module": "@jupyter-widgets/controls",
          "model_name": "HTMLModel",
          "state": {
            "_view_name": "HTMLView",
            "style": "IPY_MODEL_2c7a94f273e34d7385c947037639c68a",
            "_dom_classes": [],
            "description": "",
            "_model_name": "HTMLModel",
            "placeholder": "​",
            "_view_module": "@jupyter-widgets/controls",
            "_model_module_version": "1.5.0",
            "value": " 25539/25539 [01:23&lt;00:00, 306.92it/s]",
            "_view_count": null,
            "_view_module_version": "1.5.0",
            "description_tooltip": null,
            "_model_module": "@jupyter-widgets/controls",
            "layout": "IPY_MODEL_8b18b05468a84ad8b360af9d8408d740"
          }
        },
        "e6ee3aa930034e0bb0e6fade46c479a2": {
          "model_module": "@jupyter-widgets/controls",
          "model_name": "ProgressStyleModel",
          "state": {
            "_view_name": "StyleView",
            "_model_name": "ProgressStyleModel",
            "description_width": "initial",
            "_view_module": "@jupyter-widgets/base",
            "_model_module_version": "1.5.0",
            "_view_count": null,
            "_view_module_version": "1.2.0",
            "bar_color": null,
            "_model_module": "@jupyter-widgets/controls"
          }
        },
        "dad5c0297f214dbda9c34c5b5cc20e26": {
          "model_module": "@jupyter-widgets/base",
          "model_name": "LayoutModel",
          "state": {
            "_view_name": "LayoutView",
            "grid_template_rows": null,
            "right": null,
            "justify_content": null,
            "_view_module": "@jupyter-widgets/base",
            "overflow": null,
            "_model_module_version": "1.2.0",
            "_view_count": null,
            "flex_flow": null,
            "width": null,
            "min_width": null,
            "border": null,
            "align_items": null,
            "bottom": null,
            "_model_module": "@jupyter-widgets/base",
            "top": null,
            "grid_column": null,
            "overflow_y": null,
            "overflow_x": null,
            "grid_auto_flow": null,
            "grid_area": null,
            "grid_template_columns": null,
            "flex": null,
            "_model_name": "LayoutModel",
            "justify_items": null,
            "grid_row": null,
            "max_height": null,
            "align_content": null,
            "visibility": null,
            "align_self": null,
            "height": null,
            "min_height": null,
            "padding": null,
            "grid_auto_rows": null,
            "grid_gap": null,
            "max_width": null,
            "order": null,
            "_view_module_version": "1.2.0",
            "grid_template_areas": null,
            "object_position": null,
            "object_fit": null,
            "grid_auto_columns": null,
            "margin": null,
            "display": null,
            "left": null
          }
        },
        "2c7a94f273e34d7385c947037639c68a": {
          "model_module": "@jupyter-widgets/controls",
          "model_name": "DescriptionStyleModel",
          "state": {
            "_view_name": "StyleView",
            "_model_name": "DescriptionStyleModel",
            "description_width": "",
            "_view_module": "@jupyter-widgets/base",
            "_model_module_version": "1.5.0",
            "_view_count": null,
            "_view_module_version": "1.2.0",
            "_model_module": "@jupyter-widgets/controls"
          }
        },
        "8b18b05468a84ad8b360af9d8408d740": {
          "model_module": "@jupyter-widgets/base",
          "model_name": "LayoutModel",
          "state": {
            "_view_name": "LayoutView",
            "grid_template_rows": null,
            "right": null,
            "justify_content": null,
            "_view_module": "@jupyter-widgets/base",
            "overflow": null,
            "_model_module_version": "1.2.0",
            "_view_count": null,
            "flex_flow": null,
            "width": null,
            "min_width": null,
            "border": null,
            "align_items": null,
            "bottom": null,
            "_model_module": "@jupyter-widgets/base",
            "top": null,
            "grid_column": null,
            "overflow_y": null,
            "overflow_x": null,
            "grid_auto_flow": null,
            "grid_area": null,
            "grid_template_columns": null,
            "flex": null,
            "_model_name": "LayoutModel",
            "justify_items": null,
            "grid_row": null,
            "max_height": null,
            "align_content": null,
            "visibility": null,
            "align_self": null,
            "height": null,
            "min_height": null,
            "padding": null,
            "grid_auto_rows": null,
            "grid_gap": null,
            "max_width": null,
            "order": null,
            "_view_module_version": "1.2.0",
            "grid_template_areas": null,
            "object_position": null,
            "object_fit": null,
            "grid_auto_columns": null,
            "margin": null,
            "display": null,
            "left": null
          }
        },
        "770bb34448604f3c8da3df7619dc3078": {
          "model_module": "@jupyter-widgets/controls",
          "model_name": "HBoxModel",
          "state": {
            "_view_name": "HBoxView",
            "_dom_classes": [],
            "_model_name": "HBoxModel",
            "_view_module": "@jupyter-widgets/controls",
            "_model_module_version": "1.5.0",
            "_view_count": null,
            "_view_module_version": "1.5.0",
            "box_style": "",
            "layout": "IPY_MODEL_dc84793039e94e6db32cd4839e7b58c0",
            "_model_module": "@jupyter-widgets/controls",
            "children": [
              "IPY_MODEL_a75e4910313a4d4f920fb0b4b2c7458a",
              "IPY_MODEL_21aa647b35ce44b2b44dfbaad3d68465"
            ]
          }
        },
        "dc84793039e94e6db32cd4839e7b58c0": {
          "model_module": "@jupyter-widgets/base",
          "model_name": "LayoutModel",
          "state": {
            "_view_name": "LayoutView",
            "grid_template_rows": null,
            "right": null,
            "justify_content": null,
            "_view_module": "@jupyter-widgets/base",
            "overflow": null,
            "_model_module_version": "1.2.0",
            "_view_count": null,
            "flex_flow": null,
            "width": null,
            "min_width": null,
            "border": null,
            "align_items": null,
            "bottom": null,
            "_model_module": "@jupyter-widgets/base",
            "top": null,
            "grid_column": null,
            "overflow_y": null,
            "overflow_x": null,
            "grid_auto_flow": null,
            "grid_area": null,
            "grid_template_columns": null,
            "flex": null,
            "_model_name": "LayoutModel",
            "justify_items": null,
            "grid_row": null,
            "max_height": null,
            "align_content": null,
            "visibility": null,
            "align_self": null,
            "height": null,
            "min_height": null,
            "padding": null,
            "grid_auto_rows": null,
            "grid_gap": null,
            "max_width": null,
            "order": null,
            "_view_module_version": "1.2.0",
            "grid_template_areas": null,
            "object_position": null,
            "object_fit": null,
            "grid_auto_columns": null,
            "margin": null,
            "display": null,
            "left": null
          }
        },
        "a75e4910313a4d4f920fb0b4b2c7458a": {
          "model_module": "@jupyter-widgets/controls",
          "model_name": "IntProgressModel",
          "state": {
            "_view_name": "ProgressView",
            "style": "IPY_MODEL_55ebaa7e9c764501a4d5a644bd7c625d",
            "_dom_classes": [],
            "description": "100%",
            "_model_name": "IntProgressModel",
            "bar_style": "success",
            "max": 25539,
            "_view_module": "@jupyter-widgets/controls",
            "_model_module_version": "1.5.0",
            "value": 25539,
            "_view_count": null,
            "_view_module_version": "1.5.0",
            "orientation": "horizontal",
            "min": 0,
            "description_tooltip": null,
            "_model_module": "@jupyter-widgets/controls",
            "layout": "IPY_MODEL_2e3869eaf74c4c24932534b2f211a000"
          }
        },
        "21aa647b35ce44b2b44dfbaad3d68465": {
          "model_module": "@jupyter-widgets/controls",
          "model_name": "HTMLModel",
          "state": {
            "_view_name": "HTMLView",
            "style": "IPY_MODEL_029166dd73784f4aba2e0aded78046a3",
            "_dom_classes": [],
            "description": "",
            "_model_name": "HTMLModel",
            "placeholder": "​",
            "_view_module": "@jupyter-widgets/controls",
            "_model_module_version": "1.5.0",
            "value": " 25539/25539 [00:13&lt;00:00, 1837.51it/s]",
            "_view_count": null,
            "_view_module_version": "1.5.0",
            "description_tooltip": null,
            "_model_module": "@jupyter-widgets/controls",
            "layout": "IPY_MODEL_f3e76bc0028a434786d370e043b6db9c"
          }
        },
        "55ebaa7e9c764501a4d5a644bd7c625d": {
          "model_module": "@jupyter-widgets/controls",
          "model_name": "ProgressStyleModel",
          "state": {
            "_view_name": "StyleView",
            "_model_name": "ProgressStyleModel",
            "description_width": "initial",
            "_view_module": "@jupyter-widgets/base",
            "_model_module_version": "1.5.0",
            "_view_count": null,
            "_view_module_version": "1.2.0",
            "bar_color": null,
            "_model_module": "@jupyter-widgets/controls"
          }
        },
        "2e3869eaf74c4c24932534b2f211a000": {
          "model_module": "@jupyter-widgets/base",
          "model_name": "LayoutModel",
          "state": {
            "_view_name": "LayoutView",
            "grid_template_rows": null,
            "right": null,
            "justify_content": null,
            "_view_module": "@jupyter-widgets/base",
            "overflow": null,
            "_model_module_version": "1.2.0",
            "_view_count": null,
            "flex_flow": null,
            "width": null,
            "min_width": null,
            "border": null,
            "align_items": null,
            "bottom": null,
            "_model_module": "@jupyter-widgets/base",
            "top": null,
            "grid_column": null,
            "overflow_y": null,
            "overflow_x": null,
            "grid_auto_flow": null,
            "grid_area": null,
            "grid_template_columns": null,
            "flex": null,
            "_model_name": "LayoutModel",
            "justify_items": null,
            "grid_row": null,
            "max_height": null,
            "align_content": null,
            "visibility": null,
            "align_self": null,
            "height": null,
            "min_height": null,
            "padding": null,
            "grid_auto_rows": null,
            "grid_gap": null,
            "max_width": null,
            "order": null,
            "_view_module_version": "1.2.0",
            "grid_template_areas": null,
            "object_position": null,
            "object_fit": null,
            "grid_auto_columns": null,
            "margin": null,
            "display": null,
            "left": null
          }
        },
        "029166dd73784f4aba2e0aded78046a3": {
          "model_module": "@jupyter-widgets/controls",
          "model_name": "DescriptionStyleModel",
          "state": {
            "_view_name": "StyleView",
            "_model_name": "DescriptionStyleModel",
            "description_width": "",
            "_view_module": "@jupyter-widgets/base",
            "_model_module_version": "1.5.0",
            "_view_count": null,
            "_view_module_version": "1.2.0",
            "_model_module": "@jupyter-widgets/controls"
          }
        },
        "f3e76bc0028a434786d370e043b6db9c": {
          "model_module": "@jupyter-widgets/base",
          "model_name": "LayoutModel",
          "state": {
            "_view_name": "LayoutView",
            "grid_template_rows": null,
            "right": null,
            "justify_content": null,
            "_view_module": "@jupyter-widgets/base",
            "overflow": null,
            "_model_module_version": "1.2.0",
            "_view_count": null,
            "flex_flow": null,
            "width": null,
            "min_width": null,
            "border": null,
            "align_items": null,
            "bottom": null,
            "_model_module": "@jupyter-widgets/base",
            "top": null,
            "grid_column": null,
            "overflow_y": null,
            "overflow_x": null,
            "grid_auto_flow": null,
            "grid_area": null,
            "grid_template_columns": null,
            "flex": null,
            "_model_name": "LayoutModel",
            "justify_items": null,
            "grid_row": null,
            "max_height": null,
            "align_content": null,
            "visibility": null,
            "align_self": null,
            "height": null,
            "min_height": null,
            "padding": null,
            "grid_auto_rows": null,
            "grid_gap": null,
            "max_width": null,
            "order": null,
            "_view_module_version": "1.2.0",
            "grid_template_areas": null,
            "object_position": null,
            "object_fit": null,
            "grid_auto_columns": null,
            "margin": null,
            "display": null,
            "left": null
          }
        }
      }
    }
  },
  "cells": [
    {
      "cell_type": "code",
      "metadata": {
        "id": "xAyolspzsSF3",
        "colab_type": "code",
        "colab": {}
      },
      "source": [
        "import pandas as pd\n",
        "df=pd.read_csv('/content/drive/My Drive/train.csv')"
      ],
      "execution_count": 0,
      "outputs": []
    },
    {
      "cell_type": "code",
      "metadata": {
        "id": "8Ccb3JrWs5HB",
        "colab_type": "code",
        "colab": {}
      },
      "source": [
        "df\n",
        "import warnings\n",
        "warnings.filterwarnings(\"ignore\")"
      ],
      "execution_count": 0,
      "outputs": []
    },
    {
      "cell_type": "code",
      "metadata": {
        "id": "mQg9vEo1s-hS",
        "colab_type": "code",
        "colab": {}
      },
      "source": [
        "df2=pd.read_csv('/content/drive/My Drive/game_overview.csv')"
      ],
      "execution_count": 0,
      "outputs": []
    },
    {
      "cell_type": "code",
      "metadata": {
        "id": "aXFjCq3ltBVc",
        "colab_type": "code",
        "colab": {}
      },
      "source": [
        "df3=pd.read_csv('/content/drive/My Drive/test.csv')"
      ],
      "execution_count": 0,
      "outputs": []
    },
    {
      "cell_type": "code",
      "metadata": {
        "id": "cPbKe_vTtIlB",
        "colab_type": "code",
        "outputId": "81aa0e2d-07cf-4b53-ae05-5d484bf53371",
        "colab": {
          "base_uri": "https://localhost:8080/",
          "height": 306
        }
      },
      "source": [
        "df['title'].unique()"
      ],
      "execution_count": 0,
      "outputs": [
        {
          "output_type": "execute_result",
          "data": {
            "text/plain": [
              "array([\"Spooky's Jump Scare Mansion\", 'Sakura Clicker', 'WARMODE',\n",
              "       'Fractured Space', 'Dota 2', 'Path of Exile', 'War Thunder',\n",
              "       'Ring of Elysium', 'Team Fortress 2', 'Yu-Gi-Oh! Duel Links',\n",
              "       'SMITE®', 'Brawlhalla', 'World of Tanks Blitz',\n",
              "       'DCS World Steam Edition', 'Heroes & Generals',\n",
              "       'The Elder Scrolls®: Legends™', 'Trove', 'Neverwinter',\n",
              "       'Realm Royale', 'PlanetSide 2', 'Realm of the Mad God', 'Elsword',\n",
              "       'theHunter Classic', 'Eternal Card Game', 'Black Squad',\n",
              "       'Freestyle 2: Street Basketball', 'Bless Online',\n",
              "       'RaceRoom Racing Experience', 'Fallout Shelter',\n",
              "       'Tactical Monsters Rumble Arena', 'Creativerse', 'Dreadnought',\n",
              "       'Infestation: The New Z', 'Shop Heroes', 'Robocraft',\n",
              "       'Business Tour - Board Game with Online Multiplayer',\n",
              "       'Crusaders of the Lost Idols', 'AdventureQuest 3D',\n",
              "       'Realm Grinder', 'World of Guns: Gun Disassembly',\n",
              "       'Bloons TD Battles', 'Cuisine Royale', 'School of Dragons',\n",
              "       'EverQuest II'], dtype=object)"
            ]
          },
          "metadata": {
            "tags": []
          },
          "execution_count": 5
        }
      ]
    },
    {
      "cell_type": "code",
      "metadata": {
        "id": "WvH9OWTLtJl3",
        "colab_type": "code",
        "outputId": "305cd5b0-7db8-4e0f-bd84-2e44a01a124e",
        "colab": {
          "base_uri": "https://localhost:8080/",
          "height": 136
        }
      },
      "source": [
        "df3['title'].unique()"
      ],
      "execution_count": 0,
      "outputs": [
        {
          "output_type": "execute_result",
          "data": {
            "text/plain": [
              "array(['Counter-Strike: Global Offensive', 'World of Warships',\n",
              "       'Star Trek Online', 'Paladins®', 'Shadowverse CCG',\n",
              "       'Tree of Savior (English Ver.)', 'VEGA Conflict', 'Minion Masters',\n",
              "       'The Lord of the Rings Online™', 'Fishing Planet', 'Crush Crush',\n",
              "       'Dungeon Defenders II', 'Governor of Poker 3',\n",
              "       'Digimon Masters Online', 'Shakes and Fidget', 'Champions Online',\n",
              "       'Magic Duels', 'Aura Kingdom', 'H1Z1', 'GUNS UP!'], dtype=object)"
            ]
          },
          "metadata": {
            "tags": []
          },
          "execution_count": 6
        }
      ]
    },
    {
      "cell_type": "code",
      "metadata": {
        "id": "VrCHDzEWtLtj",
        "colab_type": "code",
        "outputId": "e4dea5e9-27b6-419a-c03d-59f5e34cc77e",
        "colab": {
          "base_uri": "https://localhost:8080/",
          "height": 425
        }
      },
      "source": [
        "df2['title'].unique()"
      ],
      "execution_count": 0,
      "outputs": [
        {
          "output_type": "execute_result",
          "data": {
            "text/plain": [
              "array([\"Spooky's Jump Scare Mansion\", 'Sakura Clicker', 'WARMODE',\n",
              "       'Fractured Space', 'Counter-Strike: Global Offensive', 'Dota 2',\n",
              "       'Path of Exile', 'War Thunder', 'Ring of Elysium',\n",
              "       'Team Fortress 2', 'World of Warships', 'Star Trek Online',\n",
              "       'Yu-Gi-Oh! Duel Links', 'Paladins®', 'SMITE®', 'Brawlhalla',\n",
              "       'World of Tanks Blitz', 'Shadowverse CCG',\n",
              "       'DCS World Steam Edition', 'Heroes & Generals',\n",
              "       'The Elder Scrolls®: Legends™', 'Tree of Savior (English Ver.)',\n",
              "       'Trove', 'Neverwinter', 'Realm Royale', 'PlanetSide 2',\n",
              "       'VEGA Conflict', 'Minion Masters', 'Realm of the Mad God',\n",
              "       'Elsword', 'The Lord of the Rings Online™', 'Fishing Planet',\n",
              "       'Crush Crush', 'Dungeon Defenders II', 'theHunter Classic',\n",
              "       'Governor of Poker 3', 'Eternal Card Game', 'Black Squad',\n",
              "       'Freestyle 2: Street Basketball', 'Bless Online',\n",
              "       'RaceRoom Racing Experience', 'Digimon Masters Online',\n",
              "       'Fallout Shelter', 'Shakes and Fidget',\n",
              "       'Tactical Monsters Rumble Arena', 'Creativerse', 'Dreadnought',\n",
              "       'Infestation: The New Z', 'Champions Online', 'Shop Heroes',\n",
              "       'Magic Duels', 'Robocraft',\n",
              "       'Business Tour - Board Game with Online Multiplayer',\n",
              "       'Aura Kingdom', 'Crusaders of the Lost Idols', 'AdventureQuest 3D',\n",
              "       'Realm Grinder', 'H1Z1', 'World of Guns: Gun Disassembly',\n",
              "       'Bloons TD Battles', 'Cuisine Royale', 'GUNS UP!',\n",
              "       'School of Dragons', 'EverQuest II'], dtype=object)"
            ]
          },
          "metadata": {
            "tags": []
          },
          "execution_count": 7
        }
      ]
    },
    {
      "cell_type": "code",
      "metadata": {
        "id": "ZgIwb5J2tNuB",
        "colab_type": "code",
        "outputId": "296be669-d9f1-4914-b38a-13730b1014ac",
        "colab": {
          "base_uri": "https://localhost:8080/",
          "height": 357
        }
      },
      "source": [
        "for i in df3.title.unique():\n",
        "    if i not in df.title.unique():\n",
        "        print(i)"
      ],
      "execution_count": 0,
      "outputs": [
        {
          "output_type": "stream",
          "text": [
            "Counter-Strike: Global Offensive\n",
            "World of Warships\n",
            "Star Trek Online\n",
            "Paladins®\n",
            "Shadowverse CCG\n",
            "Tree of Savior (English Ver.)\n",
            "VEGA Conflict\n",
            "Minion Masters\n",
            "The Lord of the Rings Online™\n",
            "Fishing Planet\n",
            "Crush Crush\n",
            "Dungeon Defenders II\n",
            "Governor of Poker 3\n",
            "Digimon Masters Online\n",
            "Shakes and Fidget\n",
            "Champions Online\n",
            "Magic Duels\n",
            "Aura Kingdom\n",
            "H1Z1\n",
            "GUNS UP!\n"
          ],
          "name": "stdout"
        }
      ]
    },
    {
      "cell_type": "code",
      "metadata": {
        "id": "RFPeDZuFtQCZ",
        "colab_type": "code",
        "colab": {}
      },
      "source": [
        "for i in df3.title.unique():\n",
        "    if i not in df2.title.unique():\n",
        "        print(i)"
      ],
      "execution_count": 0,
      "outputs": []
    },
    {
      "cell_type": "code",
      "metadata": {
        "id": "xLOZe8UEtSKy",
        "colab_type": "code",
        "colab": {}
      },
      "source": [
        "data_frame = pd.merge(df, df2, on='title')"
      ],
      "execution_count": 0,
      "outputs": []
    },
    {
      "cell_type": "code",
      "metadata": {
        "id": "ow4RSEB_tTre",
        "colab_type": "code",
        "colab": {}
      },
      "source": [
        "y_train=df['user_suggestion']\n",
        "data_frame.drop(['user_suggestion'],axis=1,inplace=True)"
      ],
      "execution_count": 0,
      "outputs": []
    },
    {
      "cell_type": "code",
      "metadata": {
        "id": "Yc8-Cz9ttaY2",
        "colab_type": "code",
        "colab": {}
      },
      "source": [
        "x_test = pd.merge(df3, df2, on='title')"
      ],
      "execution_count": 0,
      "outputs": []
    },
    {
      "cell_type": "code",
      "metadata": {
        "id": "52SQpLAjteWA",
        "colab_type": "code",
        "colab": {}
      },
      "source": [
        "data=pd.concat([x_test,data_frame],axis=0)"
      ],
      "execution_count": 0,
      "outputs": []
    },
    {
      "cell_type": "code",
      "metadata": {
        "id": "-RH-iST-tiMo",
        "colab_type": "code",
        "outputId": "72f98e85-d495-4c48-8d11-af4d576a86fd",
        "colab": {
          "base_uri": "https://localhost:8080/",
          "height": 34
        }
      },
      "source": [
        "import nltk\n",
        "data_frame.tags=data_frame.tags.astype(str).astype(str)\n",
        "c=-1\n",
        "from tqdm import tqdm\n",
        "for i in tqdm(data.tags):\n",
        "    c+=1\n",
        "    data.tags[c]=str(i)[1:-1] "
      ],
      "execution_count": 0,
      "outputs": [
        {
          "output_type": "stream",
          "text": [
            "100%|██████████| 25539/25539 [00:24<00:00, 1055.77it/s]\n"
          ],
          "name": "stderr"
        }
      ]
    },
    {
      "cell_type": "code",
      "metadata": {
        "id": "oThFU0Zvtk8c",
        "colab_type": "code",
        "colab": {}
      },
      "source": [
        "\n",
        "data.year=pd.to_numeric(data.year, downcast ='signed') "
      ],
      "execution_count": 0,
      "outputs": []
    },
    {
      "cell_type": "code",
      "metadata": {
        "id": "ei7ameAztoHQ",
        "colab_type": "code",
        "outputId": "cf05a237-9944-4c06-a410-0d2325a8bbf4",
        "colab": {
          "base_uri": "https://localhost:8080/",
          "height": 170
        }
      },
      "source": [
        "data.year.fillna(method='ffill',inplace=True)\n",
        "data.isnull().sum()"
      ],
      "execution_count": 0,
      "outputs": [
        {
          "output_type": "execute_result",
          "data": {
            "text/plain": [
              "review_id      0\n",
              "title          0\n",
              "year           0\n",
              "user_review    0\n",
              "developer      0\n",
              "publisher      0\n",
              "tags           0\n",
              "overview       0\n",
              "dtype: int64"
            ]
          },
          "metadata": {
            "tags": []
          },
          "execution_count": 16
        }
      ]
    },
    {
      "cell_type": "code",
      "metadata": {
        "id": "25kpnZAWtqgC",
        "colab_type": "code",
        "outputId": "8ab9001e-7d78-46af-9b77-22d984f4c655",
        "colab": {
          "base_uri": "https://localhost:8080/",
          "height": 168,
          "referenced_widgets": [
            "6fe737aa9a9f46e5902ab00cfeabe68a",
            "b2d39d4709f14be0974f02ebabeaf21b",
            "c63ef19ee80447e4ac2ee3fbf5a23e50",
            "29736d259e08404db3dcb71ab1eaa21f",
            "e6ee3aa930034e0bb0e6fade46c479a2",
            "dad5c0297f214dbda9c34c5b5cc20e26",
            "2c7a94f273e34d7385c947037639c68a",
            "8b18b05468a84ad8b360af9d8408d740"
          ]
        }
      },
      "source": [
        "#!pip install pyspellchecker\n",
        "import nltk\n",
        "nltk.download('stopwords')\n",
        "nltk.download('punkt')\n",
        "nltk.download('wordnet')\n",
        "stop_words=tuple(nltk.corpus.stopwords.words('english'))\n",
        "from nltk.stem import WordNetLemmatizer\n",
        "le=WordNetLemmatizer()\n",
        "lemmatized=[]\n",
        "#from spellchecker import SpellChecker\n",
        "#spell=SpellChecker()\n",
        "tokenizer=nltk.RegexpTokenizer(r'\\w+')\n",
        "from tqdm import tqdm_notebook\n",
        "for i in tqdm_notebook(data.user_review):\n",
        "    word=tokenizer.tokenize(i)\n",
        "    stop=[le.lemmatize(x) for x in tuple([x.lower() for x in tuple(word)]) if x not in tuple(stop_words)]\n",
        "    #stop=[spell.correction(i) for i in tuple(stop)]\n",
        "    new=\" \".join(stop)\n",
        "    lemmatized.append(new)"
      ],
      "execution_count": 0,
      "outputs": [
        {
          "output_type": "stream",
          "text": [
            "[nltk_data] Downloading package stopwords to /root/nltk_data...\n",
            "[nltk_data]   Unzipping corpora/stopwords.zip.\n",
            "[nltk_data] Downloading package punkt to /root/nltk_data...\n",
            "[nltk_data]   Unzipping tokenizers/punkt.zip.\n",
            "[nltk_data] Downloading package wordnet to /root/nltk_data...\n",
            "[nltk_data]   Unzipping corpora/wordnet.zip.\n"
          ],
          "name": "stdout"
        },
        {
          "output_type": "display_data",
          "data": {
            "application/vnd.jupyter.widget-view+json": {
              "model_id": "6fe737aa9a9f46e5902ab00cfeabe68a",
              "version_minor": 0,
              "version_major": 2
            },
            "text/plain": [
              "HBox(children=(IntProgress(value=0, max=25539), HTML(value='')))"
            ]
          },
          "metadata": {
            "tags": []
          }
        },
        {
          "output_type": "stream",
          "text": [
            "\n"
          ],
          "name": "stdout"
        }
      ]
    },
    {
      "cell_type": "code",
      "metadata": {
        "id": "WEMN8kU-ts5l",
        "colab_type": "code",
        "outputId": "b1fbd2a0-9187-4121-dc4a-38db864d7683",
        "colab": {
          "base_uri": "https://localhost:8080/",
          "height": 437,
          "referenced_widgets": [
            "770bb34448604f3c8da3df7619dc3078",
            "dc84793039e94e6db32cd4839e7b58c0",
            "a75e4910313a4d4f920fb0b4b2c7458a",
            "21aa647b35ce44b2b44dfbaad3d68465",
            "55ebaa7e9c764501a4d5a644bd7c625d",
            "2e3869eaf74c4c24932534b2f211a000",
            "029166dd73784f4aba2e0aded78046a3",
            "f3e76bc0028a434786d370e043b6db9c"
          ]
        }
      },
      "source": [
        "l=[]\n",
        "for i in tqdm_notebook(lemmatized):\n",
        "  all_words=nltk.word_tokenize(i)\n",
        "  for k in all_words:\n",
        "    l.append(k)\n",
        "freq=nltk.FreqDist(l)\n",
        "a=freq.most_common(15)\n",
        "import matplotlib.pyplot as plt\n",
        "import seaborn as sns\n",
        "%matplotlib inline\n",
        "num=[]\n",
        "word=[]\n",
        "for i in a:\n",
        "  num.append(i[0])\n",
        "  word.append(i[1])\n",
        "plt.figure(figsize=(16, 6))\n",
        "ax=sns.barplot(x=word,y=num)\n",
        "ax.set(xlabel='No. of times word appeared',ylabel='Top 15 Words used')\n",
        "\n",
        "plt.show()"
      ],
      "execution_count": 0,
      "outputs": [
        {
          "output_type": "display_data",
          "data": {
            "application/vnd.jupyter.widget-view+json": {
              "model_id": "770bb34448604f3c8da3df7619dc3078",
              "version_minor": 0,
              "version_major": 2
            },
            "text/plain": [
              "HBox(children=(IntProgress(value=0, max=25539), HTML(value='')))"
            ]
          },
          "metadata": {
            "tags": []
          }
        },
        {
          "output_type": "stream",
          "text": [
            "\n"
          ],
          "name": "stdout"
        },
        {
          "output_type": "display_data",
          "data": {
            "image/png": "[encoded data removed]",
            "text/plain": [
              "<Figure size 1152x432 with 1 Axes>"
            ]
          },
          "metadata": {
            "tags": [],
            "needs_background": "light"
          }
        }
      ]
    },
    {
      "cell_type": "code",
      "metadata": {
        "id": "81Rfg7gHuWiY",
        "colab_type": "code",
        "outputId": "caf12fbe-4a97-46b6-cc26-ac68f9c1fff4",
        "colab": {
          "base_uri": "https://localhost:8080/",
          "height": 238
        }
      },
      "source": [
        "from sklearn.feature_extraction.text import TfidfVectorizer \n",
        "tfidf_vectorizer=TfidfVectorizer(use_idf=True,max_features=1000)\n",
        "fitted=tfidf_vectorizer.fit(data.user_review)\n",
        "vector_x=fitted.transform(data.user_review).toarray()\n",
        "vector_x"
      ],
      "execution_count": 0,
      "outputs": [
        {
          "output_type": "execute_result",
          "data": {
            "text/plain": [
              "array([[0.        , 0.        , 0.        , ..., 0.        , 0.        ,\n",
              "        0.        ],\n",
              "       [0.        , 0.        , 0.        , ..., 0.        , 0.        ,\n",
              "        0.        ],\n",
              "       [0.        , 0.0387908 , 0.04723488, ..., 0.01993093, 0.        ,\n",
              "        0.0994098 ],\n",
              "       ...,\n",
              "       [0.04484619, 0.        , 0.        , ..., 0.        , 0.06593087,\n",
              "        0.        ],\n",
              "       [0.        , 0.        , 0.        , ..., 0.13252677, 0.        ,\n",
              "        0.        ],\n",
              "       [0.        , 0.        , 0.        , ..., 0.        , 0.        ,\n",
              "        0.        ]])"
            ]
          },
          "metadata": {
            "tags": []
          },
          "execution_count": 20
        }
      ]
    },
    {
      "cell_type": "code",
      "metadata": {
        "id": "8jUp5gR2uoH3",
        "colab_type": "code",
        "colab": {}
      },
      "source": [
        "vec_x=pd.DataFrame(vector_x)"
      ],
      "execution_count": 0,
      "outputs": []
    },
    {
      "cell_type": "code",
      "metadata": {
        "id": "ILKQrPZKuqW1",
        "colab_type": "code",
        "colab": {}
      },
      "source": [
        "data.reset_index(drop=True, inplace=True)\n",
        "vec_x.reset_index(drop=True, inplace=True)\n",
        "data2=pd.concat([data,vec_x],axis=1)"
      ],
      "execution_count": 0,
      "outputs": []
    },
    {
      "cell_type": "code",
      "metadata": {
        "id": "tsZeMMryu4G_",
        "colab_type": "code",
        "colab": {}
      },
      "source": [
        "dummy=data2['tags'].str.get_dummies(',')"
      ],
      "execution_count": 0,
      "outputs": []
    },
    {
      "cell_type": "code",
      "metadata": {
        "id": "EmrnytAI9A3w",
        "colab_type": "code",
        "colab": {}
      },
      "source": [
        "data2=pd.concat([data2,dummy],axis=1)"
      ],
      "execution_count": 0,
      "outputs": []
    },
    {
      "cell_type": "code",
      "metadata": {
        "id": "x896gk4J9TLh",
        "colab_type": "code",
        "colab": {}
      },
      "source": [
        "dummy=data2['developer'].str.get_dummies(',')"
      ],
      "execution_count": 0,
      "outputs": []
    },
    {
      "cell_type": "code",
      "metadata": {
        "id": "Sx27H_RDGAhb",
        "colab_type": "code",
        "colab": {}
      },
      "source": [
        "data2=pd.concat([data2,dummy],axis=1)"
      ],
      "execution_count": 0,
      "outputs": []
    },
    {
      "cell_type": "code",
      "metadata": {
        "id": "9vecqPOk6_3b",
        "colab_type": "code",
        "colab": {}
      },
      "source": [
        "data2.year.nunique()"
      ],
      "execution_count": 0,
      "outputs": []
    },
    {
      "cell_type": "code",
      "metadata": {
        "id": "klgk5Iv_GXIl",
        "colab_type": "code",
        "outputId": "3df31016-6f27-4af2-f578-eb1fab8084d6",
        "colab": {
          "base_uri": "https://localhost:8080/",
          "height": 34
        }
      },
      "source": [
        "dummy=pd.get_dummies(data2['year'])\n",
        "data_last=pd.concat([data2,dummy],axis=1)\n",
        "data_last.shape"
      ],
      "execution_count": 0,
      "outputs": [
        {
          "output_type": "execute_result",
          "data": {
            "text/plain": [
              "(25539, 1238)"
            ]
          },
          "metadata": {
            "tags": []
          },
          "execution_count": 28
        }
      ]
    },
    {
      "cell_type": "code",
      "metadata": {
        "id": "krIiHnwL8Hja",
        "colab_type": "code",
        "outputId": "4f95c58b-3034-4bd6-9e1b-f56d3f09d197",
        "colab": {
          "base_uri": "https://localhost:8080/",
          "height": 34
        }
      },
      "source": [
        "dummy=pd.get_dummies(data2['title'])\n",
        "data_last=pd.concat([data2,dummy],axis=1)\n",
        "data_last.shape"
      ],
      "execution_count": 0,
      "outputs": [
        {
          "output_type": "execute_result",
          "data": {
            "text/plain": [
              "(25539, 1294)"
            ]
          },
          "metadata": {
            "tags": []
          },
          "execution_count": 29
        }
      ]
    },
    {
      "cell_type": "code",
      "metadata": {
        "id": "d5XtZiVQOW-w",
        "colab_type": "code",
        "colab": {}
      },
      "source": [
        "data_last2=data_last.drop(['review_id','title','year','user_review','developer','publisher','tags'],axis=1)"
      ],
      "execution_count": 0,
      "outputs": []
    },
    {
      "cell_type": "code",
      "metadata": {
        "id": "-NEVmglfukby",
        "colab_type": "code",
        "outputId": "3dc9cf55-c80e-456e-ff9a-46e5ca9d0f12",
        "colab": {
          "base_uri": "https://localhost:8080/",
          "height": 34
        }
      },
      "source": [
        "data_last2.shape"
      ],
      "execution_count": 0,
      "outputs": [
        {
          "output_type": "execute_result",
          "data": {
            "text/plain": [
              "(25539, 1287)"
            ]
          },
          "metadata": {
            "tags": []
          },
          "execution_count": 31
        }
      ]
    },
    {
      "cell_type": "code",
      "metadata": {
        "id": "7_hFjB6avymb",
        "colab_type": "code",
        "outputId": "f371e078-d2ac-4a27-cffd-7a5a0bc404d1",
        "colab": {
          "base_uri": "https://localhost:8080/",
          "height": 34
        }
      },
      "source": [
        "#This have to be done afterwards.\n",
        "from sklearn.preprocessing import LabelEncoder\n",
        "import numpy as np\n",
        "labelencoder = LabelEncoder()\n",
        "x=data_last2['overview']\n",
        "x = labelencoder.fit_transform(x)\n",
        "x\n"
      ],
      "execution_count": 0,
      "outputs": [
        {
          "output_type": "execute_result",
          "data": {
            "text/plain": [
              "array([13, 13, 13, ..., 24, 24, 24])"
            ]
          },
          "metadata": {
            "tags": []
          },
          "execution_count": 32
        }
      ]
    },
    {
      "cell_type": "code",
      "metadata": {
        "id": "rnsqF_DP_4z_",
        "colab_type": "code",
        "colab": {}
      },
      "source": [
        "x=pd.get_dummies(data_last2['overview'],drop_first=True)"
      ],
      "execution_count": 0,
      "outputs": []
    },
    {
      "cell_type": "code",
      "metadata": {
        "id": "YkOJ2orW0Pxl",
        "colab_type": "code",
        "outputId": "d119fd0b-f46e-4b39-bab8-1fe14fc91132",
        "colab": {
          "base_uri": "https://localhost:8080/",
          "height": 34
        }
      },
      "source": [
        "#x=pd.Series(x,name='overview')\n",
        "data_last3=data_last2.drop(['overview'],axis=1)\n",
        "data_last3=pd.concat([data_last3,x],axis=1)\n",
        "data_last3.shape"
      ],
      "execution_count": 0,
      "outputs": [
        {
          "output_type": "execute_result",
          "data": {
            "text/plain": [
              "(25539, 1347)"
            ]
          },
          "metadata": {
            "tags": []
          },
          "execution_count": 35
        }
      ]
    },
    {
      "cell_type": "code",
      "metadata": {
        "id": "sIF56pJz9ycZ",
        "colab_type": "code",
        "colab": {}
      },
      "source": [
        "df=data_last3"
      ],
      "execution_count": 0,
      "outputs": []
    },
    {
      "cell_type": "code",
      "metadata": {
        "id": "uIjPtefR95RO",
        "colab_type": "code",
        "outputId": "4cb6da16-7e93-4dda-f5b1-a051134b4e48",
        "colab": {
          "base_uri": "https://localhost:8080/",
          "height": 34
        }
      },
      "source": [
        "data_last3.shape"
      ],
      "execution_count": 0,
      "outputs": [
        {
          "output_type": "execute_result",
          "data": {
            "text/plain": [
              "(25539, 1347)"
            ]
          },
          "metadata": {
            "tags": []
          },
          "execution_count": 37
        }
      ]
    },
    {
      "cell_type": "code",
      "metadata": {
        "id": "TkxU4dM31Cnr",
        "colab_type": "code",
        "colab": {}
      },
      "source": [
        "from sklearn.preprocessing import MinMaxScaler\n",
        "data_last3.iloc[:,:]=MinMaxScaler().fit_transform(data_last3.iloc[:,:].values)"
      ],
      "execution_count": 0,
      "outputs": []
    },
    {
      "cell_type": "code",
      "metadata": {
        "id": "gNGMxsAzDWIj",
        "colab_type": "code",
        "colab": {}
      },
      "source": [
        "\n"
      ],
      "execution_count": 0,
      "outputs": []
    },
    {
      "cell_type": "code",
      "metadata": {
        "id": "8TZfaCXRWOFa",
        "colab_type": "code",
        "colab": {}
      },
      "source": [
        "test=data_last3.iloc[0:8045,:]"
      ],
      "execution_count": 0,
      "outputs": []
    },
    {
      "cell_type": "code",
      "metadata": {
        "id": "MTaTTU2ZayTg",
        "colab_type": "code",
        "colab": {}
      },
      "source": [
        "train=data_last3.drop(data_last3.index[0:8045],axis=0)"
      ],
      "execution_count": 0,
      "outputs": []
    },
    {
      "cell_type": "code",
      "metadata": {
        "id": "WeF29HKybltM",
        "colab_type": "code",
        "colab": {}
      },
      "source": [
        "train.reset_index(drop=True, inplace=True)"
      ],
      "execution_count": 0,
      "outputs": []
    },
    {
      "cell_type": "code",
      "metadata": {
        "id": "_dxbEGDqDnnu",
        "colab_type": "code",
        "colab": {}
      },
      "source": [
        "# import statsmodels.api as sm\n",
        "# c=0\n",
        "# cols = list(train.columns)\n",
        "# pmax = 1\n",
        "# while (len(cols)>0):\n",
        "#     c+=1\n",
        "#     print(c)\n",
        "#     p= []\n",
        "#     X_1 = train[cols]\n",
        "#     X_1 = sm.add_constant(X_1)\n",
        "#     model = sm.OLS(y_train,X_1).fit()\n",
        "#     #print(model.summary())\n",
        "#     p = pd.Series(model.pvalues.values[1:],index = cols)      \n",
        "#     pmax = max(p)\n",
        "#     feature_with_p_max = p.idxmax()\n",
        "#     if(pmax>0.06):\n",
        "#         cols.remove(feature_with_p_max)\n",
        "#     else:\n",
        "#         break\n",
        "# selected_features_BE = cols\n",
        "# print(selected_features_BE)"
      ],
      "execution_count": 0,
      "outputs": []
    },
    {
      "cell_type": "code",
      "metadata": {
        "id": "piFcl7_EdibJ",
        "colab_type": "code",
        "colab": {}
      },
      "source": [
        "from sklearn.model_selection import train_test_split\n",
        "x_train, x_test, y_train, y_test = train_test_split(train, y_train, test_size=0.2, random_state=42)\n"
      ],
      "execution_count": 0,
      "outputs": []
    },
    {
      "cell_type": "code",
      "metadata": {
        "id": "kFphBV6GdoST",
        "colab_type": "code",
        "outputId": "4fb49ce2-d8d6-4b1e-daa8-f199d68839f1",
        "colab": {
          "base_uri": "https://localhost:8080/",
          "height": 34
        }
      },
      "source": [
        "from sklearn.naive_bayes import GaussianNB\n",
        "classifier=GaussianNB()\n",
        "classifier.fit(x_train,y_train)"
      ],
      "execution_count": 0,
      "outputs": [
        {
          "output_type": "execute_result",
          "data": {
            "text/plain": [
              "GaussianNB(priors=None, var_smoothing=1e-09)"
            ]
          },
          "metadata": {
            "tags": []
          },
          "execution_count": 44
        }
      ]
    },
    {
      "cell_type": "code",
      "metadata": {
        "id": "VY75jSEOeGk4",
        "colab_type": "code",
        "outputId": "e9dd5c10-0800-4779-9410-d8f9b07c988b",
        "colab": {
          "base_uri": "https://localhost:8080/",
          "height": 34
        }
      },
      "source": [
        "y_pred=classifier.predict(x_test)\n",
        "from sklearn.metrics import accuracy_score\n",
        "print('Naive_Bayes:',accuracy_score(y_test,y_pred))"
      ],
      "execution_count": 0,
      "outputs": [
        {
          "output_type": "stream",
          "text": [
            "Naive_Bayes: 0.8042297799371249\n"
          ],
          "name": "stdout"
        }
      ]
    },
    {
      "cell_type": "code",
      "metadata": {
        "id": "ddJwnFQkekDB",
        "colab_type": "code",
        "colab": {}
      },
      "source": [
        "import tensorflow as tf\n",
        "model = tf.keras.models.Sequential([\n",
        "  tf.keras.layers.Dense(100, activation='relu', input_shape=[1347]),\n",
        "  tf.keras.layers.Dropout(0.5),\n",
        "  tf.keras.layers.Dense(100, activation='relu'), \n",
        "  tf.keras.layers.Dropout(0.5),\n",
        "  tf.keras.layers.Dense(100, activation='relu'),                                  \n",
        "  tf.keras.layers.Dropout(0.5),\n",
        "  tf.keras.layers.Dense(1, activation='sigmoid')                                  \n",
        "\n",
        "])\n",
        "model.compile(optimizer='adam',\n",
        "              loss='binary_crossentropy',\n",
        "              metrics=['accuracy'])"
      ],
      "execution_count": 0,
      "outputs": []
    },
    {
      "cell_type": "code",
      "metadata": {
        "id": "KAMWvLLWf2uk",
        "colab_type": "code",
        "outputId": "283af9cd-acca-404c-8e1d-2d5fe4a22893",
        "colab": {
          "base_uri": "https://localhost:8080/",
          "height": 391
        }
      },
      "source": [
        "model.summary()"
      ],
      "execution_count": 0,
      "outputs": [
        {
          "output_type": "stream",
          "text": [
            "Model: \"sequential_1\"\n",
            "_________________________________________________________________\n",
            "Layer (type)                 Output Shape              Param #   \n",
            "=================================================================\n",
            "dense_4 (Dense)              (None, 100)               134800    \n",
            "_________________________________________________________________\n",
            "dropout_3 (Dropout)          (None, 100)               0         \n",
            "_________________________________________________________________\n",
            "dense_5 (Dense)              (None, 100)               10100     \n",
            "_________________________________________________________________\n",
            "dropout_4 (Dropout)          (None, 100)               0         \n",
            "_________________________________________________________________\n",
            "dense_6 (Dense)              (None, 100)               10100     \n",
            "_________________________________________________________________\n",
            "dropout_5 (Dropout)          (None, 100)               0         \n",
            "_________________________________________________________________\n",
            "dense_7 (Dense)              (None, 1)                 101       \n",
            "=================================================================\n",
            "Total params: 155,101\n",
            "Trainable params: 155,101\n",
            "Non-trainable params: 0\n",
            "_________________________________________________________________\n"
          ],
          "name": "stdout"
        }
      ]
    },
    {
      "cell_type": "code",
      "metadata": {
        "id": "IQy-CwwR_DAY",
        "colab_type": "code",
        "outputId": "50463e72-b577-419f-ac13-468b867c71a2",
        "colab": {
          "base_uri": "https://localhost:8080/",
          "height": 34
        }
      },
      "source": [
        "x_train.shape"
      ],
      "execution_count": 0,
      "outputs": [
        {
          "output_type": "execute_result",
          "data": {
            "text/plain": [
              "(13995, 1347)"
            ]
          },
          "metadata": {
            "tags": []
          },
          "execution_count": 53
        }
      ]
    },
    {
      "cell_type": "code",
      "metadata": {
        "id": "Xmt8-808f4OF",
        "colab_type": "code",
        "outputId": "3eb107a6-0eab-4f10-86e3-82c5b76faffa",
        "colab": {
          "base_uri": "https://localhost:8080/",
          "height": 1000
        }
      },
      "source": [
        "r = model.fit(x_train, y_train, validation_data=(x_test, y_test),batch_size=10, epochs=100)"
      ],
      "execution_count": 0,
      "outputs": [
        {
          "output_type": "stream",
          "text": [
            "Epoch 1/100\n",
            "1400/1400 [==============================] - 4s 3ms/step - loss: 0.4854 - accuracy: 0.7665 - val_loss: 0.3604 - val_accuracy: 0.8388\n",
            "Epoch 2/100\n",
            "1400/1400 [==============================] - 4s 3ms/step - loss: 0.3712 - accuracy: 0.8391 - val_loss: 0.3172 - val_accuracy: 0.8605\n",
            "Epoch 3/100\n",
            "1400/1400 [==============================] - 3s 2ms/step - loss: 0.3406 - accuracy: 0.8559 - val_loss: 0.3101 - val_accuracy: 0.8591\n",
            "Epoch 4/100\n",
            "1400/1400 [==============================] - 4s 3ms/step - loss: 0.3156 - accuracy: 0.8656 - val_loss: 0.3139 - val_accuracy: 0.8657\n",
            "Epoch 5/100\n",
            "1400/1400 [==============================] - 4s 3ms/step - loss: 0.2984 - accuracy: 0.8747 - val_loss: 0.3174 - val_accuracy: 0.8622\n",
            "Epoch 6/100\n",
            "1400/1400 [==============================] - 4s 3ms/step - loss: 0.2836 - accuracy: 0.8819 - val_loss: 0.3132 - val_accuracy: 0.8722\n",
            "Epoch 7/100\n",
            "1400/1400 [==============================] - 4s 3ms/step - loss: 0.2740 - accuracy: 0.8857 - val_loss: 0.3115 - val_accuracy: 0.8634\n",
            "Epoch 8/100\n",
            "1400/1400 [==============================] - 4s 3ms/step - loss: 0.2590 - accuracy: 0.8912 - val_loss: 0.3121 - val_accuracy: 0.8680\n",
            "Epoch 9/100\n",
            "1400/1400 [==============================] - 4s 3ms/step - loss: 0.2418 - accuracy: 0.8990 - val_loss: 0.3235 - val_accuracy: 0.8694\n",
            "Epoch 10/100\n",
            "1400/1400 [==============================] - 4s 3ms/step - loss: 0.2297 - accuracy: 0.9078 - val_loss: 0.3179 - val_accuracy: 0.8697\n",
            "Epoch 11/100\n",
            "1400/1400 [==============================] - 4s 3ms/step - loss: 0.2186 - accuracy: 0.9097 - val_loss: 0.3234 - val_accuracy: 0.8640\n",
            "Epoch 12/100\n",
            "1400/1400 [==============================] - 3s 2ms/step - loss: 0.2014 - accuracy: 0.9168 - val_loss: 0.3293 - val_accuracy: 0.8651\n",
            "Epoch 13/100\n",
            "1400/1400 [==============================] - 3s 2ms/step - loss: 0.1940 - accuracy: 0.9193 - val_loss: 0.3300 - val_accuracy: 0.8688\n",
            "Epoch 14/100\n",
            "1400/1400 [==============================] - 3s 2ms/step - loss: 0.1776 - accuracy: 0.9268 - val_loss: 0.3687 - val_accuracy: 0.8622\n",
            "Epoch 15/100\n",
            "1400/1400 [==============================] - 3s 2ms/step - loss: 0.1689 - accuracy: 0.9303 - val_loss: 0.3749 - val_accuracy: 0.8640\n",
            "Epoch 16/100\n",
            "1400/1400 [==============================] - 3s 2ms/step - loss: 0.1620 - accuracy: 0.9338 - val_loss: 0.4048 - val_accuracy: 0.8668\n",
            "Epoch 17/100\n",
            "1400/1400 [==============================] - 4s 3ms/step - loss: 0.1546 - accuracy: 0.9383 - val_loss: 0.4362 - val_accuracy: 0.8685\n",
            "Epoch 18/100\n",
            "1400/1400 [==============================] - 3s 2ms/step - loss: 0.1494 - accuracy: 0.9383 - val_loss: 0.4031 - val_accuracy: 0.8645\n",
            "Epoch 19/100\n",
            "1400/1400 [==============================] - 4s 3ms/step - loss: 0.1405 - accuracy: 0.9421 - val_loss: 0.4234 - val_accuracy: 0.8642\n",
            "Epoch 20/100\n",
            "1400/1400 [==============================] - 4s 3ms/step - loss: 0.1306 - accuracy: 0.9463 - val_loss: 0.4662 - val_accuracy: 0.8631\n",
            "Epoch 21/100\n",
            "1400/1400 [==============================] - 3s 2ms/step - loss: 0.1293 - accuracy: 0.9473 - val_loss: 0.4996 - val_accuracy: 0.8625\n",
            "Epoch 22/100\n",
            "1400/1400 [==============================] - 3s 2ms/step - loss: 0.1249 - accuracy: 0.9488 - val_loss: 0.5304 - val_accuracy: 0.8674\n",
            "Epoch 23/100\n",
            "1400/1400 [==============================] - 3s 2ms/step - loss: 0.1196 - accuracy: 0.9501 - val_loss: 0.4748 - val_accuracy: 0.8648\n",
            "Epoch 24/100\n",
            "1400/1400 [==============================] - 3s 2ms/step - loss: 0.1140 - accuracy: 0.9523 - val_loss: 0.6251 - val_accuracy: 0.8594\n",
            "Epoch 25/100\n",
            "1400/1400 [==============================] - 3s 2ms/step - loss: 0.1162 - accuracy: 0.9542 - val_loss: 0.5056 - val_accuracy: 0.8640\n",
            "Epoch 26/100\n",
            "1400/1400 [==============================] - 3s 2ms/step - loss: 0.1097 - accuracy: 0.9538 - val_loss: 0.5399 - val_accuracy: 0.8674\n",
            "Epoch 27/100\n",
            "1400/1400 [==============================] - 3s 2ms/step - loss: 0.1083 - accuracy: 0.9546 - val_loss: 0.5529 - val_accuracy: 0.8700\n",
            "Epoch 28/100\n",
            "1400/1400 [==============================] - 4s 3ms/step - loss: 0.1077 - accuracy: 0.9542 - val_loss: 0.5669 - val_accuracy: 0.8640\n",
            "Epoch 29/100\n",
            "1400/1400 [==============================] - 3s 2ms/step - loss: 0.1059 - accuracy: 0.9546 - val_loss: 0.5263 - val_accuracy: 0.8637\n",
            "Epoch 30/100\n",
            "1400/1400 [==============================] - 4s 3ms/step - loss: 0.0964 - accuracy: 0.9603 - val_loss: 0.6222 - val_accuracy: 0.8605\n",
            "Epoch 31/100\n",
            "1400/1400 [==============================] - 4s 3ms/step - loss: 0.0978 - accuracy: 0.9604 - val_loss: 0.6686 - val_accuracy: 0.8654\n",
            "Epoch 32/100\n",
            "1400/1400 [==============================] - 4s 3ms/step - loss: 0.0983 - accuracy: 0.9611 - val_loss: 0.6054 - val_accuracy: 0.8680\n",
            "Epoch 33/100\n",
            "1400/1400 [==============================] - 3s 2ms/step - loss: 0.0903 - accuracy: 0.9634 - val_loss: 0.6125 - val_accuracy: 0.8642\n",
            "Epoch 34/100\n",
            "1400/1400 [==============================] - 4s 3ms/step - loss: 0.0905 - accuracy: 0.9606 - val_loss: 0.5864 - val_accuracy: 0.8648\n",
            "Epoch 35/100\n",
            "1400/1400 [==============================] - 4s 3ms/step - loss: 0.0882 - accuracy: 0.9619 - val_loss: 0.6674 - val_accuracy: 0.8657\n",
            "Epoch 36/100\n",
            "1400/1400 [==============================] - 4s 3ms/step - loss: 0.0896 - accuracy: 0.9646 - val_loss: 0.7040 - val_accuracy: 0.8645\n",
            "Epoch 37/100\n",
            "1400/1400 [==============================] - 3s 2ms/step - loss: 0.0819 - accuracy: 0.9659 - val_loss: 0.7416 - val_accuracy: 0.8665\n",
            "Epoch 38/100\n",
            "1400/1400 [==============================] - 4s 3ms/step - loss: 0.0800 - accuracy: 0.9651 - val_loss: 0.6995 - val_accuracy: 0.8665\n",
            "Epoch 39/100\n",
            "1400/1400 [==============================] - 4s 3ms/step - loss: 0.0897 - accuracy: 0.9639 - val_loss: 0.6148 - val_accuracy: 0.8654\n",
            "Epoch 40/100\n",
            "1400/1400 [==============================] - 4s 3ms/step - loss: 0.0845 - accuracy: 0.9649 - val_loss: 0.6790 - val_accuracy: 0.8654\n",
            "Epoch 41/100\n",
            "1400/1400 [==============================] - 4s 3ms/step - loss: 0.0820 - accuracy: 0.9661 - val_loss: 0.7578 - val_accuracy: 0.8662\n",
            "Epoch 42/100\n",
            "1400/1400 [==============================] - 4s 3ms/step - loss: 0.0796 - accuracy: 0.9673 - val_loss: 0.7494 - val_accuracy: 0.8642\n",
            "Epoch 43/100\n",
            "1400/1400 [==============================] - 4s 3ms/step - loss: 0.0753 - accuracy: 0.9678 - val_loss: 0.8514 - val_accuracy: 0.8585\n",
            "Epoch 44/100\n",
            "1400/1400 [==============================] - 4s 3ms/step - loss: 0.0816 - accuracy: 0.9686 - val_loss: 0.7745 - val_accuracy: 0.8674\n",
            "Epoch 45/100\n",
            "1400/1400 [==============================] - 4s 3ms/step - loss: 0.0800 - accuracy: 0.9671 - val_loss: 0.7561 - val_accuracy: 0.8617\n",
            "Epoch 46/100\n",
            "1400/1400 [==============================] - 4s 3ms/step - loss: 0.0800 - accuracy: 0.9673 - val_loss: 0.6056 - val_accuracy: 0.8602\n",
            "Epoch 47/100\n",
            "1400/1400 [==============================] - 3s 2ms/step - loss: 0.0769 - accuracy: 0.9672 - val_loss: 0.6625 - val_accuracy: 0.8594\n",
            "Epoch 48/100\n",
            "1400/1400 [==============================] - 4s 3ms/step - loss: 0.0745 - accuracy: 0.9694 - val_loss: 0.6785 - val_accuracy: 0.8625\n",
            "Epoch 49/100\n",
            "1400/1400 [==============================] - 4s 3ms/step - loss: 0.0757 - accuracy: 0.9691 - val_loss: 0.7738 - val_accuracy: 0.8622\n",
            "Epoch 50/100\n",
            "1400/1400 [==============================] - 4s 3ms/step - loss: 0.0713 - accuracy: 0.9703 - val_loss: 0.7724 - val_accuracy: 0.8568\n",
            "Epoch 51/100\n",
            "1400/1400 [==============================] - 4s 3ms/step - loss: 0.0738 - accuracy: 0.9717 - val_loss: 0.7543 - val_accuracy: 0.8642\n",
            "Epoch 52/100\n",
            "1400/1400 [==============================] - 4s 3ms/step - loss: 0.0676 - accuracy: 0.9719 - val_loss: 0.7664 - val_accuracy: 0.8600\n",
            "Epoch 53/100\n",
            "1400/1400 [==============================] - 3s 2ms/step - loss: 0.0743 - accuracy: 0.9708 - val_loss: 0.9354 - val_accuracy: 0.8674\n",
            "Epoch 54/100\n",
            "1400/1400 [==============================] - 3s 2ms/step - loss: 0.0720 - accuracy: 0.9724 - val_loss: 0.7664 - val_accuracy: 0.8674\n",
            "Epoch 55/100\n",
            "1400/1400 [==============================] - 4s 3ms/step - loss: 0.0674 - accuracy: 0.9728 - val_loss: 0.8015 - val_accuracy: 0.8668\n",
            "Epoch 56/100\n",
            "1400/1400 [==============================] - 4s 3ms/step - loss: 0.0708 - accuracy: 0.9732 - val_loss: 0.9422 - val_accuracy: 0.8628\n",
            "Epoch 57/100\n",
            "1400/1400 [==============================] - 4s 3ms/step - loss: 0.0677 - accuracy: 0.9716 - val_loss: 0.7793 - val_accuracy: 0.8620\n",
            "Epoch 58/100\n",
            "1400/1400 [==============================] - 4s 3ms/step - loss: 0.0666 - accuracy: 0.9716 - val_loss: 1.0541 - val_accuracy: 0.8594\n",
            "Epoch 59/100\n",
            "1400/1400 [==============================] - 4s 3ms/step - loss: 0.0669 - accuracy: 0.9741 - val_loss: 0.9746 - val_accuracy: 0.8648\n",
            "Epoch 60/100\n",
            "1400/1400 [==============================] - 4s 3ms/step - loss: 0.0720 - accuracy: 0.9706 - val_loss: 0.9102 - val_accuracy: 0.8617\n",
            "Epoch 61/100\n",
            "1400/1400 [==============================] - 3s 2ms/step - loss: 0.0676 - accuracy: 0.9730 - val_loss: 0.9684 - val_accuracy: 0.8674\n",
            "Epoch 62/100\n",
            "1400/1400 [==============================] - 3s 2ms/step - loss: 0.0689 - accuracy: 0.9736 - val_loss: 0.9187 - val_accuracy: 0.8617\n",
            "Epoch 63/100\n",
            "1400/1400 [==============================] - 3s 2ms/step - loss: 0.0690 - accuracy: 0.9727 - val_loss: 0.8535 - val_accuracy: 0.8662\n",
            "Epoch 64/100\n",
            "1400/1400 [==============================] - 4s 3ms/step - loss: 0.0595 - accuracy: 0.9768 - val_loss: 1.0279 - val_accuracy: 0.8631\n",
            "Epoch 65/100\n",
            "1400/1400 [==============================] - 3s 2ms/step - loss: 0.0647 - accuracy: 0.9736 - val_loss: 1.0649 - val_accuracy: 0.8640\n",
            "Epoch 66/100\n",
            "1400/1400 [==============================] - 3s 2ms/step - loss: 0.0634 - accuracy: 0.9754 - val_loss: 0.9338 - val_accuracy: 0.8625\n",
            "Epoch 67/100\n",
            "1400/1400 [==============================] - 4s 3ms/step - loss: 0.0630 - accuracy: 0.9736 - val_loss: 0.8629 - val_accuracy: 0.8617\n",
            "Epoch 68/100\n",
            "1400/1400 [==============================] - 3s 2ms/step - loss: 0.0665 - accuracy: 0.9713 - val_loss: 0.9597 - val_accuracy: 0.8642\n",
            "Epoch 69/100\n",
            "1400/1400 [==============================] - 4s 3ms/step - loss: 0.0604 - accuracy: 0.9756 - val_loss: 0.8799 - val_accuracy: 0.8605\n",
            "Epoch 70/100\n",
            "1400/1400 [==============================] - 4s 3ms/step - loss: 0.0614 - accuracy: 0.9760 - val_loss: 0.9620 - val_accuracy: 0.8660\n",
            "Epoch 71/100\n",
            "1400/1400 [==============================] - 4s 3ms/step - loss: 0.0629 - accuracy: 0.9744 - val_loss: 1.0251 - val_accuracy: 0.8680\n",
            "Epoch 72/100\n",
            "1400/1400 [==============================] - 3s 2ms/step - loss: 0.0624 - accuracy: 0.9748 - val_loss: 1.0423 - val_accuracy: 0.8651\n",
            "Epoch 73/100\n",
            "1400/1400 [==============================] - 3s 2ms/step - loss: 0.0629 - accuracy: 0.9744 - val_loss: 0.9227 - val_accuracy: 0.8645\n",
            "Epoch 74/100\n",
            "1400/1400 [==============================] - 3s 2ms/step - loss: 0.0558 - accuracy: 0.9782 - val_loss: 0.9496 - val_accuracy: 0.8591\n",
            "Epoch 75/100\n",
            "1400/1400 [==============================] - 3s 2ms/step - loss: 0.0605 - accuracy: 0.9754 - val_loss: 1.0441 - val_accuracy: 0.8617\n",
            "Epoch 76/100\n",
            "1400/1400 [==============================] - 3s 2ms/step - loss: 0.0609 - accuracy: 0.9752 - val_loss: 1.1405 - val_accuracy: 0.8562\n",
            "Epoch 77/100\n",
            "1400/1400 [==============================] - 4s 3ms/step - loss: 0.0519 - accuracy: 0.9794 - val_loss: 1.0325 - val_accuracy: 0.8617\n",
            "Epoch 78/100\n",
            "1400/1400 [==============================] - 3s 2ms/step - loss: 0.0578 - accuracy: 0.9754 - val_loss: 0.8915 - val_accuracy: 0.8614\n",
            "Epoch 79/100\n",
            "1400/1400 [==============================] - 4s 3ms/step - loss: 0.0533 - accuracy: 0.9778 - val_loss: 1.0528 - val_accuracy: 0.8640\n",
            "Epoch 80/100\n",
            "1400/1400 [==============================] - 4s 3ms/step - loss: 0.0626 - accuracy: 0.9754 - val_loss: 1.1982 - val_accuracy: 0.8622\n",
            "Epoch 81/100\n",
            "1400/1400 [==============================] - 3s 2ms/step - loss: 0.0610 - accuracy: 0.9760 - val_loss: 1.0328 - val_accuracy: 0.8640\n",
            "Epoch 82/100\n",
            "1400/1400 [==============================] - 3s 2ms/step - loss: 0.0580 - accuracy: 0.9773 - val_loss: 0.9869 - val_accuracy: 0.8637\n",
            "Epoch 83/100\n",
            "1400/1400 [==============================] - 3s 2ms/step - loss: 0.0612 - accuracy: 0.9762 - val_loss: 1.1682 - val_accuracy: 0.8648\n",
            "Epoch 84/100\n",
            "1400/1400 [==============================] - 4s 3ms/step - loss: 0.0552 - accuracy: 0.9781 - val_loss: 1.0506 - val_accuracy: 0.8628\n",
            "Epoch 85/100\n",
            "1400/1400 [==============================] - 4s 3ms/step - loss: 0.0591 - accuracy: 0.9771 - val_loss: 1.0938 - val_accuracy: 0.8622\n",
            "Epoch 86/100\n",
            "1400/1400 [==============================] - 4s 3ms/step - loss: 0.0547 - accuracy: 0.9772 - val_loss: 1.0149 - val_accuracy: 0.8631\n",
            "Epoch 87/100\n",
            "1400/1400 [==============================] - 4s 3ms/step - loss: 0.0631 - accuracy: 0.9755 - val_loss: 1.0849 - val_accuracy: 0.8654\n",
            "Epoch 88/100\n",
            "1400/1400 [==============================] - 4s 3ms/step - loss: 0.0523 - accuracy: 0.9779 - val_loss: 1.0006 - val_accuracy: 0.8631\n",
            "Epoch 89/100\n",
            "1400/1400 [==============================] - 3s 2ms/step - loss: 0.0527 - accuracy: 0.9791 - val_loss: 1.0100 - val_accuracy: 0.8611\n",
            "Epoch 90/100\n",
            "1400/1400 [==============================] - 3s 2ms/step - loss: 0.0583 - accuracy: 0.9765 - val_loss: 1.1481 - val_accuracy: 0.8651\n",
            "Epoch 91/100\n",
            "1400/1400 [==============================] - 4s 3ms/step - loss: 0.0573 - accuracy: 0.9765 - val_loss: 1.0819 - val_accuracy: 0.8694\n",
            "Epoch 92/100\n",
            "1400/1400 [==============================] - 4s 3ms/step - loss: 0.0579 - accuracy: 0.9775 - val_loss: 1.0732 - val_accuracy: 0.8665\n",
            "Epoch 93/100\n",
            "1400/1400 [==============================] - 3s 2ms/step - loss: 0.0566 - accuracy: 0.9765 - val_loss: 0.9598 - val_accuracy: 0.8654\n",
            "Epoch 94/100\n",
            "1400/1400 [==============================] - 3s 2ms/step - loss: 0.0545 - accuracy: 0.9777 - val_loss: 1.0467 - val_accuracy: 0.8628\n",
            "Epoch 95/100\n",
            "1400/1400 [==============================] - 3s 2ms/step - loss: 0.0540 - accuracy: 0.9786 - val_loss: 1.1380 - val_accuracy: 0.8668\n",
            "Epoch 96/100\n",
            "1400/1400 [==============================] - 3s 2ms/step - loss: 0.0569 - accuracy: 0.9773 - val_loss: 1.1214 - val_accuracy: 0.8651\n",
            "Epoch 97/100\n",
            "1400/1400 [==============================] - 3s 2ms/step - loss: 0.0609 - accuracy: 0.9775 - val_loss: 1.0401 - val_accuracy: 0.8640\n",
            "Epoch 98/100\n",
            "1400/1400 [==============================] - 3s 2ms/step - loss: 0.0522 - accuracy: 0.9801 - val_loss: 1.2252 - val_accuracy: 0.8628\n",
            "Epoch 99/100\n",
            "1400/1400 [==============================] - 3s 2ms/step - loss: 0.0588 - accuracy: 0.9771 - val_loss: 0.8161 - val_accuracy: 0.8591\n",
            "Epoch 100/100\n",
            "1400/1400 [==============================] - 3s 2ms/step - loss: 0.0555 - accuracy: 0.9781 - val_loss: 1.0764 - val_accuracy: 0.8588\n"
          ],
          "name": "stdout"
        }
      ]
    },
    {
      "cell_type": "code",
      "metadata": {
        "id": "ONS1eOqJj4-E",
        "colab_type": "code",
        "outputId": "deeda94a-6d57-4b84-bbba-202308053877",
        "colab": {
          "base_uri": "https://localhost:8080/",
          "height": 34
        }
      },
      "source": [
        "x_test.shape"
      ],
      "execution_count": 0,
      "outputs": [
        {
          "output_type": "execute_result",
          "data": {
            "text/plain": [
              "(3499, 1347)"
            ]
          },
          "metadata": {
            "tags": []
          },
          "execution_count": 55
        }
      ]
    },
    {
      "cell_type": "code",
      "metadata": {
        "id": "5Vi6D0IZhBEN",
        "colab_type": "code",
        "colab": {}
      },
      "source": [
        "predicted=model.predict(x_test)\n",
        "c=0\n",
        "for i in predicted:\n",
        "  if i<0.5:\n",
        "    predicted[c]=0\n",
        "  else:\n",
        "    predicted[c]=1\n",
        "  c+=1\n",
        "from sklearn.metrics import accuracy_score\n",
        "print('Accuracy:',accuracy_score(y_test,predicted))"
      ],
      "execution_count": 0,
      "outputs": []
    },
    {
      "cell_type": "code",
      "metadata": {
        "id": "4GNxFToyhPiV",
        "colab_type": "code",
        "colab": {}
      },
      "source": [
        "df3=pd.read_csv('/content/drive/My Drive/test.csv')\n",
        "review_id=df3.review_id\n",
        "predicted=model.predict(test)\n",
        "c=0\n",
        "for i in predicted:\n",
        "  if i<0.5:\n",
        "    predicted[c]=0\n",
        "  else:\n",
        "    predicted[c]=1\n",
        "  c+=1"
      ],
      "execution_count": 0,
      "outputs": []
    },
    {
      "cell_type": "code",
      "metadata": {
        "id": "VelN6XTalPLt",
        "colab_type": "code",
        "colab": {}
      },
      "source": [
        "predicted=predicted.tolist()"
      ],
      "execution_count": 0,
      "outputs": []
    },
    {
      "cell_type": "code",
      "metadata": {
        "id": "gm9lXGx-mRER",
        "colab_type": "code",
        "colab": {}
      },
      "source": [
        "c=-1\n",
        "from tqdm import tqdm\n",
        "for i in tqdm(predicted):\n",
        "    c+=1\n",
        "    predicted[c]=str(i)[1:-1] "
      ],
      "execution_count": 0,
      "outputs": []
    },
    {
      "cell_type": "code",
      "metadata": {
        "id": "-5v_vvK7h6Wa",
        "colab_type": "code",
        "colab": {}
      },
      "source": [
        "result=pd.DataFrame({'review_id':review_id,'user_suggestion':predicted})"
      ],
      "execution_count": 0,
      "outputs": []
    },
    {
      "cell_type": "code",
      "metadata": {
        "id": "_sZtIt9BoRYb",
        "colab_type": "code",
        "colab": {}
      },
      "source": [
        "result.user_suggestion=pd.to_numeric(result.user_suggestion)"
      ],
      "execution_count": 0,
      "outputs": []
    },
    {
      "cell_type": "code",
      "metadata": {
        "id": "UHg6c8r5nWZN",
        "colab_type": "code",
        "colab": {}
      },
      "source": [
        "result.user_suggestion=result.user_suggestion.astype(int)"
      ],
      "execution_count": 0,
      "outputs": []
    },
    {
      "cell_type": "code",
      "metadata": {
        "id": "uKaxMiJxkwr4",
        "colab_type": "code",
        "colab": {}
      },
      "source": [
        "result.to_csv('result.csv',index=False)"
      ],
      "execution_count": 0,
      "outputs": []
    },
    {
      "cell_type": "code",
      "metadata": {
        "id": "6I_-Lslom0kR",
        "colab_type": "code",
        "colab": {}
      },
      "source": [
        ""
      ],
      "execution_count": 0,
      "outputs": []
    }
  ]
}