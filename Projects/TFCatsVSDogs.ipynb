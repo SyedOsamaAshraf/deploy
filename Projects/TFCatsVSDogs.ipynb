{
  "nbformat": 4,
  "nbformat_minor": 0,
  "metadata": {
    "colab": {
      "name": "TFCatsVSDogs.ipynb",
      "provenance": [],
      "collapsed_sections": []
    },
    "kernelspec": {
      "name": "python3",
      "display_name": "Python 3"
    },
    "widgets": {
      "application/vnd.jupyter.widget-state+json": {
        "516c8d75fb2847ee87250498d783d687": {
          "model_module": "@jupyter-widgets/controls",
          "model_name": "HBoxModel",
          "state": {
            "_view_name": "HBoxView",
            "_dom_classes": [],
            "_model_name": "HBoxModel",
            "_view_module": "@jupyter-widgets/controls",
            "_model_module_version": "1.5.0",
            "_view_count": null,
            "_view_module_version": "1.5.0",
            "box_style": "",
            "layout": "IPY_MODEL_88c5ad95c4d64a7ca2348d8b3a6b040c",
            "_model_module": "@jupyter-widgets/controls",
            "children": [
              "IPY_MODEL_ed1614ac588949a3ab0a2d7a9c36e6fa",
              "IPY_MODEL_71cbd9aa21e84d9e93af5d220fcb0361"
            ]
          }
        },
        "88c5ad95c4d64a7ca2348d8b3a6b040c": {
          "model_module": "@jupyter-widgets/base",
          "model_name": "LayoutModel",
          "state": {
            "_view_name": "LayoutView",
            "grid_template_rows": null,
            "right": null,
            "justify_content": null,
            "_view_module": "@jupyter-widgets/base",
            "overflow": null,
            "_model_module_version": "1.2.0",
            "_view_count": null,
            "flex_flow": null,
            "width": null,
            "min_width": null,
            "border": null,
            "align_items": null,
            "bottom": null,
            "_model_module": "@jupyter-widgets/base",
            "top": null,
            "grid_column": null,
            "overflow_y": null,
            "overflow_x": null,
            "grid_auto_flow": null,
            "grid_area": null,
            "grid_template_columns": null,
            "flex": null,
            "_model_name": "LayoutModel",
            "justify_items": null,
            "grid_row": null,
            "max_height": null,
            "align_content": null,
            "visibility": null,
            "align_self": null,
            "height": null,
            "min_height": null,
            "padding": null,
            "grid_auto_rows": null,
            "grid_gap": null,
            "max_width": null,
            "order": null,
            "_view_module_version": "1.2.0",
            "grid_template_areas": null,
            "object_position": null,
            "object_fit": null,
            "grid_auto_columns": null,
            "margin": null,
            "display": null,
            "left": null
          }
        },
        "ed1614ac588949a3ab0a2d7a9c36e6fa": {
          "model_module": "@jupyter-widgets/controls",
          "model_name": "IntProgressModel",
          "state": {
            "_view_name": "ProgressView",
            "style": "IPY_MODEL_d5bf964d8dd34c959cb860375108950d",
            "_dom_classes": [],
            "description": "100%",
            "_model_name": "IntProgressModel",
            "bar_style": "success",
            "max": 4000,
            "_view_module": "@jupyter-widgets/controls",
            "_model_module_version": "1.5.0",
            "value": 4000,
            "_view_count": null,
            "_view_module_version": "1.5.0",
            "orientation": "horizontal",
            "min": 0,
            "description_tooltip": null,
            "_model_module": "@jupyter-widgets/controls",
            "layout": "IPY_MODEL_9c791790d88240aeb1ed99c732cd62ed"
          }
        },
        "71cbd9aa21e84d9e93af5d220fcb0361": {
          "model_module": "@jupyter-widgets/controls",
          "model_name": "HTMLModel",
          "state": {
            "_view_name": "HTMLView",
            "style": "IPY_MODEL_fa198ecfe08e4ae796dc0a216d7b150f",
            "_dom_classes": [],
            "description": "",
            "_model_name": "HTMLModel",
            "placeholder": "​",
            "_view_module": "@jupyter-widgets/controls",
            "_model_module_version": "1.5.0",
            "value": " 4000/4000 [1:09:48&lt;00:00,  1.05s/it]",
            "_view_count": null,
            "_view_module_version": "1.5.0",
            "description_tooltip": null,
            "_model_module": "@jupyter-widgets/controls",
            "layout": "IPY_MODEL_4c43c52e2d9740f3b6f1c5de9bf7946b"
          }
        },
        "d5bf964d8dd34c959cb860375108950d": {
          "model_module": "@jupyter-widgets/controls",
          "model_name": "ProgressStyleModel",
          "state": {
            "_view_name": "StyleView",
            "_model_name": "ProgressStyleModel",
            "description_width": "initial",
            "_view_module": "@jupyter-widgets/base",
            "_model_module_version": "1.5.0",
            "_view_count": null,
            "_view_module_version": "1.2.0",
            "bar_color": null,
            "_model_module": "@jupyter-widgets/controls"
          }
        },
        "9c791790d88240aeb1ed99c732cd62ed": {
          "model_module": "@jupyter-widgets/base",
          "model_name": "LayoutModel",
          "state": {
            "_view_name": "LayoutView",
            "grid_template_rows": null,
            "right": null,
            "justify_content": null,
            "_view_module": "@jupyter-widgets/base",
            "overflow": null,
            "_model_module_version": "1.2.0",
            "_view_count": null,
            "flex_flow": null,
            "width": null,
            "min_width": null,
            "border": null,
            "align_items": null,
            "bottom": null,
            "_model_module": "@jupyter-widgets/base",
            "top": null,
            "grid_column": null,
            "overflow_y": null,
            "overflow_x": null,
            "grid_auto_flow": null,
            "grid_area": null,
            "grid_template_columns": null,
            "flex": null,
            "_model_name": "LayoutModel",
            "justify_items": null,
            "grid_row": null,
            "max_height": null,
            "align_content": null,
            "visibility": null,
            "align_self": null,
            "height": null,
            "min_height": null,
            "padding": null,
            "grid_auto_rows": null,
            "grid_gap": null,
            "max_width": null,
            "order": null,
            "_view_module_version": "1.2.0",
            "grid_template_areas": null,
            "object_position": null,
            "object_fit": null,
            "grid_auto_columns": null,
            "margin": null,
            "display": null,
            "left": null
          }
        },
        "fa198ecfe08e4ae796dc0a216d7b150f": {
          "model_module": "@jupyter-widgets/controls",
          "model_name": "DescriptionStyleModel",
          "state": {
            "_view_name": "StyleView",
            "_model_name": "DescriptionStyleModel",
            "description_width": "",
            "_view_module": "@jupyter-widgets/base",
            "_model_module_version": "1.5.0",
            "_view_count": null,
            "_view_module_version": "1.2.0",
            "_model_module": "@jupyter-widgets/controls"
          }
        },
        "4c43c52e2d9740f3b6f1c5de9bf7946b": {
          "model_module": "@jupyter-widgets/base",
          "model_name": "LayoutModel",
          "state": {
            "_view_name": "LayoutView",
            "grid_template_rows": null,
            "right": null,
            "justify_content": null,
            "_view_module": "@jupyter-widgets/base",
            "overflow": null,
            "_model_module_version": "1.2.0",
            "_view_count": null,
            "flex_flow": null,
            "width": null,
            "min_width": null,
            "border": null,
            "align_items": null,
            "bottom": null,
            "_model_module": "@jupyter-widgets/base",
            "top": null,
            "grid_column": null,
            "overflow_y": null,
            "overflow_x": null,
            "grid_auto_flow": null,
            "grid_area": null,
            "grid_template_columns": null,
            "flex": null,
            "_model_name": "LayoutModel",
            "justify_items": null,
            "grid_row": null,
            "max_height": null,
            "align_content": null,
            "visibility": null,
            "align_self": null,
            "height": null,
            "min_height": null,
            "padding": null,
            "grid_auto_rows": null,
            "grid_gap": null,
            "max_width": null,
            "order": null,
            "_view_module_version": "1.2.0",
            "grid_template_areas": null,
            "object_position": null,
            "object_fit": null,
            "grid_auto_columns": null,
            "margin": null,
            "display": null,
            "left": null
          }
        },
        "c1e983e53d844c80bd1667ac9e6b5abf": {
          "model_module": "@jupyter-widgets/controls",
          "model_name": "HBoxModel",
          "state": {
            "_view_name": "HBoxView",
            "_dom_classes": [],
            "_model_name": "HBoxModel",
            "_view_module": "@jupyter-widgets/controls",
            "_model_module_version": "1.5.0",
            "_view_count": null,
            "_view_module_version": "1.5.0",
            "box_style": "",
            "layout": "IPY_MODEL_835db434864a4ff494efae5434d9fd11",
            "_model_module": "@jupyter-widgets/controls",
            "children": [
              "IPY_MODEL_b73d3dba9bca40c0a934d6a350fe4f17",
              "IPY_MODEL_7ca5ea1ec25745c183c869d80ad520fa"
            ]
          }
        },
        "835db434864a4ff494efae5434d9fd11": {
          "model_module": "@jupyter-widgets/base",
          "model_name": "LayoutModel",
          "state": {
            "_view_name": "LayoutView",
            "grid_template_rows": null,
            "right": null,
            "justify_content": null,
            "_view_module": "@jupyter-widgets/base",
            "overflow": null,
            "_model_module_version": "1.2.0",
            "_view_count": null,
            "flex_flow": null,
            "width": null,
            "min_width": null,
            "border": null,
            "align_items": null,
            "bottom": null,
            "_model_module": "@jupyter-widgets/base",
            "top": null,
            "grid_column": null,
            "overflow_y": null,
            "overflow_x": null,
            "grid_auto_flow": null,
            "grid_area": null,
            "grid_template_columns": null,
            "flex": null,
            "_model_name": "LayoutModel",
            "justify_items": null,
            "grid_row": null,
            "max_height": null,
            "align_content": null,
            "visibility": null,
            "align_self": null,
            "height": null,
            "min_height": null,
            "padding": null,
            "grid_auto_rows": null,
            "grid_gap": null,
            "max_width": null,
            "order": null,
            "_view_module_version": "1.2.0",
            "grid_template_areas": null,
            "object_position": null,
            "object_fit": null,
            "grid_auto_columns": null,
            "margin": null,
            "display": null,
            "left": null
          }
        },
        "b73d3dba9bca40c0a934d6a350fe4f17": {
          "model_module": "@jupyter-widgets/controls",
          "model_name": "IntProgressModel",
          "state": {
            "_view_name": "ProgressView",
            "style": "IPY_MODEL_bab7c5ee2e6e423bb6ea6d0b5598b8c8",
            "_dom_classes": [],
            "description": "100%",
            "_model_name": "IntProgressModel",
            "bar_style": "success",
            "max": 4020,
            "_view_module": "@jupyter-widgets/controls",
            "_model_module_version": "1.5.0",
            "value": 4020,
            "_view_count": null,
            "_view_module_version": "1.5.0",
            "orientation": "horizontal",
            "min": 0,
            "description_tooltip": null,
            "_model_module": "@jupyter-widgets/controls",
            "layout": "IPY_MODEL_e1a95fae03b84305a47e9778cd3f2644"
          }
        },
        "7ca5ea1ec25745c183c869d80ad520fa": {
          "model_module": "@jupyter-widgets/controls",
          "model_name": "HTMLModel",
          "state": {
            "_view_name": "HTMLView",
            "style": "IPY_MODEL_58dcfe8ea107474a8e658b26844c6837",
            "_dom_classes": [],
            "description": "",
            "_model_name": "HTMLModel",
            "placeholder": "​",
            "_view_module": "@jupyter-widgets/controls",
            "_model_module_version": "1.5.0",
            "value": " 4020/4020 [42:10&lt;00:00,  1.59it/s]",
            "_view_count": null,
            "_view_module_version": "1.5.0",
            "description_tooltip": null,
            "_model_module": "@jupyter-widgets/controls",
            "layout": "IPY_MODEL_54ffcc99de184cd48a15787a6e8d05f2"
          }
        },
        "bab7c5ee2e6e423bb6ea6d0b5598b8c8": {
          "model_module": "@jupyter-widgets/controls",
          "model_name": "ProgressStyleModel",
          "state": {
            "_view_name": "StyleView",
            "_model_name": "ProgressStyleModel",
            "description_width": "initial",
            "_view_module": "@jupyter-widgets/base",
            "_model_module_version": "1.5.0",
            "_view_count": null,
            "_view_module_version": "1.2.0",
            "bar_color": null,
            "_model_module": "@jupyter-widgets/controls"
          }
        },
        "e1a95fae03b84305a47e9778cd3f2644": {
          "model_module": "@jupyter-widgets/base",
          "model_name": "LayoutModel",
          "state": {
            "_view_name": "LayoutView",
            "grid_template_rows": null,
            "right": null,
            "justify_content": null,
            "_view_module": "@jupyter-widgets/base",
            "overflow": null,
            "_model_module_version": "1.2.0",
            "_view_count": null,
            "flex_flow": null,
            "width": null,
            "min_width": null,
            "border": null,
            "align_items": null,
            "bottom": null,
            "_model_module": "@jupyter-widgets/base",
            "top": null,
            "grid_column": null,
            "overflow_y": null,
            "overflow_x": null,
            "grid_auto_flow": null,
            "grid_area": null,
            "grid_template_columns": null,
            "flex": null,
            "_model_name": "LayoutModel",
            "justify_items": null,
            "grid_row": null,
            "max_height": null,
            "align_content": null,
            "visibility": null,
            "align_self": null,
            "height": null,
            "min_height": null,
            "padding": null,
            "grid_auto_rows": null,
            "grid_gap": null,
            "max_width": null,
            "order": null,
            "_view_module_version": "1.2.0",
            "grid_template_areas": null,
            "object_position": null,
            "object_fit": null,
            "grid_auto_columns": null,
            "margin": null,
            "display": null,
            "left": null
          }
        },
        "58dcfe8ea107474a8e658b26844c6837": {
          "model_module": "@jupyter-widgets/controls",
          "model_name": "DescriptionStyleModel",
          "state": {
            "_view_name": "StyleView",
            "_model_name": "DescriptionStyleModel",
            "description_width": "",
            "_view_module": "@jupyter-widgets/base",
            "_model_module_version": "1.5.0",
            "_view_count": null,
            "_view_module_version": "1.2.0",
            "_model_module": "@jupyter-widgets/controls"
          }
        },
        "54ffcc99de184cd48a15787a6e8d05f2": {
          "model_module": "@jupyter-widgets/base",
          "model_name": "LayoutModel",
          "state": {
            "_view_name": "LayoutView",
            "grid_template_rows": null,
            "right": null,
            "justify_content": null,
            "_view_module": "@jupyter-widgets/base",
            "overflow": null,
            "_model_module_version": "1.2.0",
            "_view_count": null,
            "flex_flow": null,
            "width": null,
            "min_width": null,
            "border": null,
            "align_items": null,
            "bottom": null,
            "_model_module": "@jupyter-widgets/base",
            "top": null,
            "grid_column": null,
            "overflow_y": null,
            "overflow_x": null,
            "grid_auto_flow": null,
            "grid_area": null,
            "grid_template_columns": null,
            "flex": null,
            "_model_name": "LayoutModel",
            "justify_items": null,
            "grid_row": null,
            "max_height": null,
            "align_content": null,
            "visibility": null,
            "align_self": null,
            "height": null,
            "min_height": null,
            "padding": null,
            "grid_auto_rows": null,
            "grid_gap": null,
            "max_width": null,
            "order": null,
            "_view_module_version": "1.2.0",
            "grid_template_areas": null,
            "object_position": null,
            "object_fit": null,
            "grid_auto_columns": null,
            "margin": null,
            "display": null,
            "left": null
          }
        },
        "e48565937b9749ba992773e25fa60a70": {
          "model_module": "@jupyter-widgets/controls",
          "model_name": "HBoxModel",
          "state": {
            "_view_name": "HBoxView",
            "_dom_classes": [],
            "_model_name": "HBoxModel",
            "_view_module": "@jupyter-widgets/controls",
            "_model_module_version": "1.5.0",
            "_view_count": null,
            "_view_module_version": "1.5.0",
            "box_style": "",
            "layout": "IPY_MODEL_2fb13884b1da4c8fa203a1e3e593e1fa",
            "_model_module": "@jupyter-widgets/controls",
            "children": [
              "IPY_MODEL_fa052fc5ef3d497397a4d2ba409628f0",
              "IPY_MODEL_1704f8ac7866421b9d2102b999baaece"
            ]
          }
        },
        "2fb13884b1da4c8fa203a1e3e593e1fa": {
          "model_module": "@jupyter-widgets/base",
          "model_name": "LayoutModel",
          "state": {
            "_view_name": "LayoutView",
            "grid_template_rows": null,
            "right": null,
            "justify_content": null,
            "_view_module": "@jupyter-widgets/base",
            "overflow": null,
            "_model_module_version": "1.2.0",
            "_view_count": null,
            "flex_flow": null,
            "width": null,
            "min_width": null,
            "border": null,
            "align_items": null,
            "bottom": null,
            "_model_module": "@jupyter-widgets/base",
            "top": null,
            "grid_column": null,
            "overflow_y": null,
            "overflow_x": null,
            "grid_auto_flow": null,
            "grid_area": null,
            "grid_template_columns": null,
            "flex": null,
            "_model_name": "LayoutModel",
            "justify_items": null,
            "grid_row": null,
            "max_height": null,
            "align_content": null,
            "visibility": null,
            "align_self": null,
            "height": null,
            "min_height": null,
            "padding": null,
            "grid_auto_rows": null,
            "grid_gap": null,
            "max_width": null,
            "order": null,
            "_view_module_version": "1.2.0",
            "grid_template_areas": null,
            "object_position": null,
            "object_fit": null,
            "grid_auto_columns": null,
            "margin": null,
            "display": null,
            "left": null
          }
        },
        "fa052fc5ef3d497397a4d2ba409628f0": {
          "model_module": "@jupyter-widgets/controls",
          "model_name": "IntProgressModel",
          "state": {
            "_view_name": "ProgressView",
            "style": "IPY_MODEL_9b596857b7794fd0b2d0cb8410f4b91f",
            "_dom_classes": [],
            "description": "100%",
            "_model_name": "IntProgressModel",
            "bar_style": "success",
            "max": 1000,
            "_view_module": "@jupyter-widgets/controls",
            "_model_module_version": "1.5.0",
            "value": 1000,
            "_view_count": null,
            "_view_module_version": "1.5.0",
            "orientation": "horizontal",
            "min": 0,
            "description_tooltip": null,
            "_model_module": "@jupyter-widgets/controls",
            "layout": "IPY_MODEL_3c802c2842084bc3a09847df91e1c747"
          }
        },
        "1704f8ac7866421b9d2102b999baaece": {
          "model_module": "@jupyter-widgets/controls",
          "model_name": "HTMLModel",
          "state": {
            "_view_name": "HTMLView",
            "style": "IPY_MODEL_efa154153f6e4cc49d13abd5f3cc0826",
            "_dom_classes": [],
            "description": "",
            "_model_name": "HTMLModel",
            "placeholder": "​",
            "_view_module": "@jupyter-widgets/controls",
            "_model_module_version": "1.5.0",
            "value": " 1000/1000 [14:18&lt;00:00,  1.17it/s]",
            "_view_count": null,
            "_view_module_version": "1.5.0",
            "description_tooltip": null,
            "_model_module": "@jupyter-widgets/controls",
            "layout": "IPY_MODEL_3b91bec19a814bc18cbe6b10a2bc4182"
          }
        },
        "9b596857b7794fd0b2d0cb8410f4b91f": {
          "model_module": "@jupyter-widgets/controls",
          "model_name": "ProgressStyleModel",
          "state": {
            "_view_name": "StyleView",
            "_model_name": "ProgressStyleModel",
            "description_width": "initial",
            "_view_module": "@jupyter-widgets/base",
            "_model_module_version": "1.5.0",
            "_view_count": null,
            "_view_module_version": "1.2.0",
            "bar_color": null,
            "_model_module": "@jupyter-widgets/controls"
          }
        },
        "3c802c2842084bc3a09847df91e1c747": {
          "model_module": "@jupyter-widgets/base",
          "model_name": "LayoutModel",
          "state": {
            "_view_name": "LayoutView",
            "grid_template_rows": null,
            "right": null,
            "justify_content": null,
            "_view_module": "@jupyter-widgets/base",
            "overflow": null,
            "_model_module_version": "1.2.0",
            "_view_count": null,
            "flex_flow": null,
            "width": null,
            "min_width": null,
            "border": null,
            "align_items": null,
            "bottom": null,
            "_model_module": "@jupyter-widgets/base",
            "top": null,
            "grid_column": null,
            "overflow_y": null,
            "overflow_x": null,
            "grid_auto_flow": null,
            "grid_area": null,
            "grid_template_columns": null,
            "flex": null,
            "_model_name": "LayoutModel",
            "justify_items": null,
            "grid_row": null,
            "max_height": null,
            "align_content": null,
            "visibility": null,
            "align_self": null,
            "height": null,
            "min_height": null,
            "padding": null,
            "grid_auto_rows": null,
            "grid_gap": null,
            "max_width": null,
            "order": null,
            "_view_module_version": "1.2.0",
            "grid_template_areas": null,
            "object_position": null,
            "object_fit": null,
            "grid_auto_columns": null,
            "margin": null,
            "display": null,
            "left": null
          }
        },
        "efa154153f6e4cc49d13abd5f3cc0826": {
          "model_module": "@jupyter-widgets/controls",
          "model_name": "DescriptionStyleModel",
          "state": {
            "_view_name": "StyleView",
            "_model_name": "DescriptionStyleModel",
            "description_width": "",
            "_view_module": "@jupyter-widgets/base",
            "_model_module_version": "1.5.0",
            "_view_count": null,
            "_view_module_version": "1.2.0",
            "_model_module": "@jupyter-widgets/controls"
          }
        },
        "3b91bec19a814bc18cbe6b10a2bc4182": {
          "model_module": "@jupyter-widgets/base",
          "model_name": "LayoutModel",
          "state": {
            "_view_name": "LayoutView",
            "grid_template_rows": null,
            "right": null,
            "justify_content": null,
            "_view_module": "@jupyter-widgets/base",
            "overflow": null,
            "_model_module_version": "1.2.0",
            "_view_count": null,
            "flex_flow": null,
            "width": null,
            "min_width": null,
            "border": null,
            "align_items": null,
            "bottom": null,
            "_model_module": "@jupyter-widgets/base",
            "top": null,
            "grid_column": null,
            "overflow_y": null,
            "overflow_x": null,
            "grid_auto_flow": null,
            "grid_area": null,
            "grid_template_columns": null,
            "flex": null,
            "_model_name": "LayoutModel",
            "justify_items": null,
            "grid_row": null,
            "max_height": null,
            "align_content": null,
            "visibility": null,
            "align_self": null,
            "height": null,
            "min_height": null,
            "padding": null,
            "grid_auto_rows": null,
            "grid_gap": null,
            "max_width": null,
            "order": null,
            "_view_module_version": "1.2.0",
            "grid_template_areas": null,
            "object_position": null,
            "object_fit": null,
            "grid_auto_columns": null,
            "margin": null,
            "display": null,
            "left": null
          }
        },
        "ad04a671fc234ce89ce57a0f4a87661a": {
          "model_module": "@jupyter-widgets/controls",
          "model_name": "HBoxModel",
          "state": {
            "_view_name": "HBoxView",
            "_dom_classes": [],
            "_model_name": "HBoxModel",
            "_view_module": "@jupyter-widgets/controls",
            "_model_module_version": "1.5.0",
            "_view_count": null,
            "_view_module_version": "1.5.0",
            "box_style": "",
            "layout": "IPY_MODEL_8b43c3bcea264d4ca309bd5d63900888",
            "_model_module": "@jupyter-widgets/controls",
            "children": [
              "IPY_MODEL_fc6cc6a5498046e79a926489617bde5d",
              "IPY_MODEL_b6f36b86b8994dc1ae997726bb8fe9be"
            ]
          }
        },
        "8b43c3bcea264d4ca309bd5d63900888": {
          "model_module": "@jupyter-widgets/base",
          "model_name": "LayoutModel",
          "state": {
            "_view_name": "LayoutView",
            "grid_template_rows": null,
            "right": null,
            "justify_content": null,
            "_view_module": "@jupyter-widgets/base",
            "overflow": null,
            "_model_module_version": "1.2.0",
            "_view_count": null,
            "flex_flow": null,
            "width": null,
            "min_width": null,
            "border": null,
            "align_items": null,
            "bottom": null,
            "_model_module": "@jupyter-widgets/base",
            "top": null,
            "grid_column": null,
            "overflow_y": null,
            "overflow_x": null,
            "grid_auto_flow": null,
            "grid_area": null,
            "grid_template_columns": null,
            "flex": null,
            "_model_name": "LayoutModel",
            "justify_items": null,
            "grid_row": null,
            "max_height": null,
            "align_content": null,
            "visibility": null,
            "align_self": null,
            "height": null,
            "min_height": null,
            "padding": null,
            "grid_auto_rows": null,
            "grid_gap": null,
            "max_width": null,
            "order": null,
            "_view_module_version": "1.2.0",
            "grid_template_areas": null,
            "object_position": null,
            "object_fit": null,
            "grid_auto_columns": null,
            "margin": null,
            "display": null,
            "left": null
          }
        },
        "fc6cc6a5498046e79a926489617bde5d": {
          "model_module": "@jupyter-widgets/controls",
          "model_name": "IntProgressModel",
          "state": {
            "_view_name": "ProgressView",
            "style": "IPY_MODEL_88338eaf1a0d4018acea3c2b12130137",
            "_dom_classes": [],
            "description": "100%",
            "_model_name": "IntProgressModel",
            "bar_style": "success",
            "max": 1000,
            "_view_module": "@jupyter-widgets/controls",
            "_model_module_version": "1.5.0",
            "value": 1000,
            "_view_count": null,
            "_view_module_version": "1.5.0",
            "orientation": "horizontal",
            "min": 0,
            "description_tooltip": null,
            "_model_module": "@jupyter-widgets/controls",
            "layout": "IPY_MODEL_b88f3323a32b44c9ad03158fdc91b6cf"
          }
        },
        "b6f36b86b8994dc1ae997726bb8fe9be": {
          "model_module": "@jupyter-widgets/controls",
          "model_name": "HTMLModel",
          "state": {
            "_view_name": "HTMLView",
            "style": "IPY_MODEL_d927f2baf8aa46f89cc15f6bb5d86582",
            "_dom_classes": [],
            "description": "",
            "_model_name": "HTMLModel",
            "placeholder": "​",
            "_view_module": "@jupyter-widgets/controls",
            "_model_module_version": "1.5.0",
            "value": " 1000/1000 [06:54&lt;00:00,  2.41it/s]",
            "_view_count": null,
            "_view_module_version": "1.5.0",
            "description_tooltip": null,
            "_model_module": "@jupyter-widgets/controls",
            "layout": "IPY_MODEL_f85591516c71445681e7b74fbbbf94dc"
          }
        },
        "88338eaf1a0d4018acea3c2b12130137": {
          "model_module": "@jupyter-widgets/controls",
          "model_name": "ProgressStyleModel",
          "state": {
            "_view_name": "StyleView",
            "_model_name": "ProgressStyleModel",
            "description_width": "initial",
            "_view_module": "@jupyter-widgets/base",
            "_model_module_version": "1.5.0",
            "_view_count": null,
            "_view_module_version": "1.2.0",
            "bar_color": null,
            "_model_module": "@jupyter-widgets/controls"
          }
        },
        "b88f3323a32b44c9ad03158fdc91b6cf": {
          "model_module": "@jupyter-widgets/base",
          "model_name": "LayoutModel",
          "state": {
            "_view_name": "LayoutView",
            "grid_template_rows": null,
            "right": null,
            "justify_content": null,
            "_view_module": "@jupyter-widgets/base",
            "overflow": null,
            "_model_module_version": "1.2.0",
            "_view_count": null,
            "flex_flow": null,
            "width": null,
            "min_width": null,
            "border": null,
            "align_items": null,
            "bottom": null,
            "_model_module": "@jupyter-widgets/base",
            "top": null,
            "grid_column": null,
            "overflow_y": null,
            "overflow_x": null,
            "grid_auto_flow": null,
            "grid_area": null,
            "grid_template_columns": null,
            "flex": null,
            "_model_name": "LayoutModel",
            "justify_items": null,
            "grid_row": null,
            "max_height": null,
            "align_content": null,
            "visibility": null,
            "align_self": null,
            "height": null,
            "min_height": null,
            "padding": null,
            "grid_auto_rows": null,
            "grid_gap": null,
            "max_width": null,
            "order": null,
            "_view_module_version": "1.2.0",
            "grid_template_areas": null,
            "object_position": null,
            "object_fit": null,
            "grid_auto_columns": null,
            "margin": null,
            "display": null,
            "left": null
          }
        },
        "d927f2baf8aa46f89cc15f6bb5d86582": {
          "model_module": "@jupyter-widgets/controls",
          "model_name": "DescriptionStyleModel",
          "state": {
            "_view_name": "StyleView",
            "_model_name": "DescriptionStyleModel",
            "description_width": "",
            "_view_module": "@jupyter-widgets/base",
            "_model_module_version": "1.5.0",
            "_view_count": null,
            "_view_module_version": "1.2.0",
            "_model_module": "@jupyter-widgets/controls"
          }
        },
        "f85591516c71445681e7b74fbbbf94dc": {
          "model_module": "@jupyter-widgets/base",
          "model_name": "LayoutModel",
          "state": {
            "_view_name": "LayoutView",
            "grid_template_rows": null,
            "right": null,
            "justify_content": null,
            "_view_module": "@jupyter-widgets/base",
            "overflow": null,
            "_model_module_version": "1.2.0",
            "_view_count": null,
            "flex_flow": null,
            "width": null,
            "min_width": null,
            "border": null,
            "align_items": null,
            "bottom": null,
            "_model_module": "@jupyter-widgets/base",
            "top": null,
            "grid_column": null,
            "overflow_y": null,
            "overflow_x": null,
            "grid_auto_flow": null,
            "grid_area": null,
            "grid_template_columns": null,
            "flex": null,
            "_model_name": "LayoutModel",
            "justify_items": null,
            "grid_row": null,
            "max_height": null,
            "align_content": null,
            "visibility": null,
            "align_self": null,
            "height": null,
            "min_height": null,
            "padding": null,
            "grid_auto_rows": null,
            "grid_gap": null,
            "max_width": null,
            "order": null,
            "_view_module_version": "1.2.0",
            "grid_template_areas": null,
            "object_position": null,
            "object_fit": null,
            "grid_auto_columns": null,
            "margin": null,
            "display": null,
            "left": null
          }
        }
      }
    }
  },
  "cells": [
    {
      "cell_type": "code",
      "metadata": {
        "id": "cyztJJtUP9Zg",
        "colab_type": "code",
        "colab": {}
      },
      "source": [
        "import cv2\n",
        "import numpy as np\n",
        "from tqdm import tqdm\n",
        "import matplotlib.pyplot as plt\n",
        "REBUILD_DATA=True"
      ],
      "execution_count": 0,
      "outputs": []
    },
    {
      "cell_type": "code",
      "metadata": {
        "id": "8ThuHjjFQMKR",
        "colab_type": "code",
        "outputId": "cb0ad6a2-6262-454a-c9fa-3e1e6b34ef10",
        "colab": {
          "base_uri": "https://localhost:8080/",
          "height": 115,
          "referenced_widgets": [
            "516c8d75fb2847ee87250498d783d687",
            "88c5ad95c4d64a7ca2348d8b3a6b040c",
            "ed1614ac588949a3ab0a2d7a9c36e6fa",
            "71cbd9aa21e84d9e93af5d220fcb0361",
            "d5bf964d8dd34c959cb860375108950d",
            "9c791790d88240aeb1ed99c732cd62ed",
            "fa198ecfe08e4ae796dc0a216d7b150f",
            "4c43c52e2d9740f3b6f1c5de9bf7946b",
            "c1e983e53d844c80bd1667ac9e6b5abf",
            "835db434864a4ff494efae5434d9fd11",
            "b73d3dba9bca40c0a934d6a350fe4f17",
            "7ca5ea1ec25745c183c869d80ad520fa",
            "bab7c5ee2e6e423bb6ea6d0b5598b8c8",
            "e1a95fae03b84305a47e9778cd3f2644",
            "58dcfe8ea107474a8e658b26844c6837",
            "54ffcc99de184cd48a15787a6e8d05f2"
          ]
        }
      },
      "source": [
        "if REBUILD_DATA==True:\n",
        "  import glob\n",
        "  from tqdm.notebook import tqdm\n",
        "  x=[]\n",
        "  y=[]\n",
        "  CATS='/content/drive/My Drive/dataset/training_set/cats/*.*'\n",
        "  DOGS='/content/drive/My Drive/dataset/training_set/dogs/*.*'\n",
        "  for f in tqdm(glob.glob(CATS)):\n",
        "    img=cv2.imread(f,cv2.IMREAD_GRAYSCALE)\n",
        "    img=cv2.resize(img,(28,28))\n",
        "    x.append(img)\n",
        "    y.append(0)\n",
        "  for f in tqdm(glob.glob(DOGS)):\n",
        "    img=cv2.imread(f,cv2.IMREAD_GRAYSCALE)\n",
        "    img=cv2.resize(img,(28,28))\n",
        "    x.append(img)\n",
        "    y.append(1)\n"
      ],
      "execution_count": 0,
      "outputs": [
        {
          "output_type": "display_data",
          "data": {
            "application/vnd.jupyter.widget-view+json": {
              "model_id": "516c8d75fb2847ee87250498d783d687",
              "version_minor": 0,
              "version_major": 2
            },
            "text/plain": [
              "HBox(children=(IntProgress(value=0, max=4000), HTML(value='')))"
            ]
          },
          "metadata": {
            "tags": []
          }
        },
        {
          "output_type": "stream",
          "text": [
            "\n"
          ],
          "name": "stdout"
        },
        {
          "output_type": "display_data",
          "data": {
            "application/vnd.jupyter.widget-view+json": {
              "model_id": "c1e983e53d844c80bd1667ac9e6b5abf",
              "version_minor": 0,
              "version_major": 2
            },
            "text/plain": [
              "HBox(children=(IntProgress(value=0, max=4020), HTML(value='')))"
            ]
          },
          "metadata": {
            "tags": []
          }
        },
        {
          "output_type": "stream",
          "text": [
            "\n"
          ],
          "name": "stdout"
        }
      ]
    },
    {
      "cell_type": "code",
      "metadata": {
        "id": "K3LlU2klc8aw",
        "colab_type": "code",
        "outputId": "07e13625-1914-4779-fa5d-24218fc7138e",
        "colab": {
          "base_uri": "https://localhost:8080/",
          "height": 115,
          "referenced_widgets": [
            "e48565937b9749ba992773e25fa60a70",
            "2fb13884b1da4c8fa203a1e3e593e1fa",
            "fa052fc5ef3d497397a4d2ba409628f0",
            "1704f8ac7866421b9d2102b999baaece",
            "9b596857b7794fd0b2d0cb8410f4b91f",
            "3c802c2842084bc3a09847df91e1c747",
            "efa154153f6e4cc49d13abd5f3cc0826",
            "3b91bec19a814bc18cbe6b10a2bc4182",
            "ad04a671fc234ce89ce57a0f4a87661a",
            "8b43c3bcea264d4ca309bd5d63900888",
            "fc6cc6a5498046e79a926489617bde5d",
            "b6f36b86b8994dc1ae997726bb8fe9be",
            "88338eaf1a0d4018acea3c2b12130137",
            "b88f3323a32b44c9ad03158fdc91b6cf",
            "d927f2baf8aa46f89cc15f6bb5d86582",
            "f85591516c71445681e7b74fbbbf94dc"
          ]
        }
      },
      "source": [
        "if REBUILD_DATA==True:\n",
        "  import glob\n",
        "  from tqdm.notebook import tqdm\n",
        "  x_test=[]\n",
        "  y_test=[]\n",
        "  CATS='/content/drive/My Drive/dataset/test_set/cats/*.*'\n",
        "  DOGS='/content/drive/My Drive/dataset/test_set/dogs/*.*'\n",
        "  for f in tqdm(glob.glob(CATS)):\n",
        "    img=cv2.imread(f,cv2.IMREAD_GRAYSCALE)\n",
        "    img=cv2.resize(img,(28,28))\n",
        "    x_test.append(img)\n",
        "    y_test.append(0)\n",
        "  for f in tqdm(glob.glob(DOGS)):\n",
        "    img=cv2.imread(f,cv2.IMREAD_GRAYSCALE)\n",
        "    img=cv2.resize(img,(28,28))\n",
        "    x_test.append(img)\n",
        "    y_test.append(1)"
      ],
      "execution_count": 0,
      "outputs": [
        {
          "output_type": "display_data",
          "data": {
            "application/vnd.jupyter.widget-view+json": {
              "model_id": "e48565937b9749ba992773e25fa60a70",
              "version_minor": 0,
              "version_major": 2
            },
            "text/plain": [
              "HBox(children=(IntProgress(value=0, max=1000), HTML(value='')))"
            ]
          },
          "metadata": {
            "tags": []
          }
        },
        {
          "output_type": "stream",
          "text": [
            "\n"
          ],
          "name": "stdout"
        },
        {
          "output_type": "display_data",
          "data": {
            "application/vnd.jupyter.widget-view+json": {
              "model_id": "ad04a671fc234ce89ce57a0f4a87661a",
              "version_minor": 0,
              "version_major": 2
            },
            "text/plain": [
              "HBox(children=(IntProgress(value=0, max=1000), HTML(value='')))"
            ]
          },
          "metadata": {
            "tags": []
          }
        },
        {
          "output_type": "stream",
          "text": [
            "\n"
          ],
          "name": "stdout"
        }
      ]
    },
    {
      "cell_type": "code",
      "metadata": {
        "id": "dI8kmK0tU53_",
        "colab_type": "code",
        "colab": {}
      },
      "source": [
        "if REBUILD_DATA==True:\n",
        "  from sklearn.model_selection import train_test_split\n",
        "  x_train,x_val,y_train,y_val=train_test_split(x,y,test_size=0.2,random_state=42)\n",
        "  x_train=np.array(x_train)\n",
        "  y_train=np.array(y_train)\n",
        "  x_val=np.array(x_val)\n",
        "  y_val=np.array(y_val)\n",
        "  x_test=np.array(x_test)\n",
        "  y_test=np.array(y_test)\n",
        "  np.save('x_train.npy',x_train)\n",
        "  np.save('y_train.npy',y_train)\n",
        "  np.save('x_val.npy',x_val)\n",
        "  np.save('y_val.npy',y_val)\n",
        "  np.save('x_test.npy',x_test)\n",
        "  np.save('y_test.npy',y_test)"
      ],
      "execution_count": 0,
      "outputs": []
    },
    {
      "cell_type": "code",
      "metadata": {
        "id": "4b_7jMlnDiRm",
        "colab_type": "code",
        "colab": {}
      },
      "source": [
        "x_train=np.load('x_train.npy',allow_pickle=True)\n",
        "x_test=np.load('x_test.npy',allow_pickle=True)\n",
        "y_train=np.load('y_train.npy',allow_pickle=True)\n",
        "y_test=np.load('y_test.npy',allow_pickle=True)\n",
        "x_val=np.load('x_val.npy',allow_pickle=True)\n",
        "y_val=np.load('y_val.npy',allow_pickle=True)"
      ],
      "execution_count": 0,
      "outputs": []
    },
    {
      "cell_type": "code",
      "metadata": {
        "id": "kq0NnBGy_5-g",
        "colab_type": "code",
        "colab": {}
      },
      "source": [
        "x_train=x_train.reshape((6416,28,28,1))\n",
        "x_val=x_val.reshape((1604,28,28,1))\n",
        "x_test=x_test.reshape((2000,28,28,1))"
      ],
      "execution_count": 0,
      "outputs": []
    },
    {
      "cell_type": "code",
      "metadata": {
        "id": "XlFgSIGJAoAW",
        "colab_type": "code",
        "colab": {}
      },
      "source": [
        "x_train=x_train/255\n",
        "x_val=x_val/255\n",
        "x_test=x_test/255"
      ],
      "execution_count": 0,
      "outputs": []
    },
    {
      "cell_type": "code",
      "metadata": {
        "id": "5Y9-qYcPdyYU",
        "colab_type": "code",
        "colab": {}
      },
      "source": [
        "if REBUILD_DATA==True:\n",
        "  import tensorflow as tf\n",
        "  model = tf.keras.models.Sequential([\n",
        "    tf.keras.layers.Conv2D(filters=32,kernel_size=(3,3),activation='relu',input_shape=(28,28,1)),\n",
        "    tf.keras.layers.MaxPooling2D((2,2)),\n",
        "    tf.keras.layers.Conv2D(filters=64,kernel_size=(3,3),activation='relu'),\n",
        "    tf.keras.layers.MaxPooling2D((2,2)),\n",
        "    tf.keras.layers.Flatten(),\n",
        "    tf.keras.layers.Dense(50, activation='relu'),\n",
        "    tf.keras.layers.Dense(1, activation='sigmoid')                                  \n",
        "    \n",
        "  ])\n"
      ],
      "execution_count": 0,
      "outputs": []
    },
    {
      "cell_type": "code",
      "metadata": {
        "id": "iIZ0z_gEeJhZ",
        "colab_type": "code",
        "outputId": "d152390e-c3ee-4f9e-d7f9-bff10962b2ba",
        "colab": {
          "base_uri": "https://localhost:8080/",
          "height": 391
        }
      },
      "source": [
        "model.summary()"
      ],
      "execution_count": 0,
      "outputs": [
        {
          "output_type": "stream",
          "text": [
            "Model: \"sequential\"\n",
            "_________________________________________________________________\n",
            "Layer (type)                 Output Shape              Param #   \n",
            "=================================================================\n",
            "conv2d (Conv2D)              (None, 26, 26, 32)        320       \n",
            "_________________________________________________________________\n",
            "max_pooling2d (MaxPooling2D) (None, 13, 13, 32)        0         \n",
            "_________________________________________________________________\n",
            "conv2d_1 (Conv2D)            (None, 11, 11, 64)        18496     \n",
            "_________________________________________________________________\n",
            "max_pooling2d_1 (MaxPooling2 (None, 5, 5, 64)          0         \n",
            "_________________________________________________________________\n",
            "flatten (Flatten)            (None, 1600)              0         \n",
            "_________________________________________________________________\n",
            "dense (Dense)                (None, 50)                80050     \n",
            "_________________________________________________________________\n",
            "dense_1 (Dense)              (None, 1)                 51        \n",
            "=================================================================\n",
            "Total params: 98,917\n",
            "Trainable params: 98,917\n",
            "Non-trainable params: 0\n",
            "_________________________________________________________________\n"
          ],
          "name": "stdout"
        }
      ]
    },
    {
      "cell_type": "code",
      "metadata": {
        "id": "4Ck9gwqBgtCy",
        "colab_type": "code",
        "colab": {}
      },
      "source": [
        "model.compile(optimizer='adam',\n",
        "              loss='binary_crossentropy',\n",
        "              metrics=['accuracy'])"
      ],
      "execution_count": 0,
      "outputs": []
    },
    {
      "cell_type": "code",
      "metadata": {
        "id": "Wel9vEmIiuUL",
        "colab_type": "code",
        "outputId": "b8b3e5a1-bb5b-4afc-b0a8-b380833dbbc1",
        "colab": {
          "base_uri": "https://localhost:8080/",
          "height": 697
        }
      },
      "source": [
        "if REBUILD_DATA==True:\n",
        "  checkpoint=tf.keras.callbacks.ModelCheckpoint('CatVSDog.h5')\n",
        "  r = model.fit(x_train, y_train, validation_data=(x_val, y_val),callbacks=[checkpoint],batch_size=32, epochs=20)"
      ],
      "execution_count": 0,
      "outputs": [
        {
          "output_type": "stream",
          "text": [
            "Epoch 1/20\n",
            "201/201 [==============================] - 5s 27ms/step - loss: 0.6850 - accuracy: 0.5354 - val_loss: 0.6528 - val_accuracy: 0.6334\n",
            "Epoch 2/20\n",
            "201/201 [==============================] - 5s 27ms/step - loss: 0.6490 - accuracy: 0.6211 - val_loss: 0.6105 - val_accuracy: 0.6571\n",
            "Epoch 3/20\n",
            "201/201 [==============================] - 5s 27ms/step - loss: 0.6140 - accuracy: 0.6666 - val_loss: 0.5900 - val_accuracy: 0.6870\n",
            "Epoch 4/20\n",
            "201/201 [==============================] - 5s 27ms/step - loss: 0.5877 - accuracy: 0.6953 - val_loss: 0.5835 - val_accuracy: 0.6827\n",
            "Epoch 5/20\n",
            "201/201 [==============================] - 5s 27ms/step - loss: 0.5554 - accuracy: 0.7202 - val_loss: 0.5597 - val_accuracy: 0.7145\n",
            "Epoch 6/20\n",
            "201/201 [==============================] - 5s 27ms/step - loss: 0.5295 - accuracy: 0.7329 - val_loss: 0.5329 - val_accuracy: 0.7313\n",
            "Epoch 7/20\n",
            "201/201 [==============================] - 5s 27ms/step - loss: 0.5056 - accuracy: 0.7514 - val_loss: 0.5407 - val_accuracy: 0.7444\n",
            "Epoch 8/20\n",
            "201/201 [==============================] - 6s 28ms/step - loss: 0.4871 - accuracy: 0.7662 - val_loss: 0.5777 - val_accuracy: 0.6989\n",
            "Epoch 9/20\n",
            "201/201 [==============================] - 5s 27ms/step - loss: 0.4623 - accuracy: 0.7788 - val_loss: 0.5459 - val_accuracy: 0.7288\n",
            "Epoch 10/20\n",
            "201/201 [==============================] - 5s 27ms/step - loss: 0.4593 - accuracy: 0.7838 - val_loss: 0.5717 - val_accuracy: 0.7207\n",
            "Epoch 11/20\n",
            "201/201 [==============================] - 5s 27ms/step - loss: 0.4270 - accuracy: 0.8050 - val_loss: 0.5551 - val_accuracy: 0.7313\n",
            "Epoch 12/20\n",
            "201/201 [==============================] - 5s 27ms/step - loss: 0.3993 - accuracy: 0.8219 - val_loss: 0.5757 - val_accuracy: 0.7294\n",
            "Epoch 13/20\n",
            "201/201 [==============================] - 5s 27ms/step - loss: 0.3701 - accuracy: 0.8362 - val_loss: 0.5720 - val_accuracy: 0.7257\n",
            "Epoch 14/20\n",
            "201/201 [==============================] - 5s 26ms/step - loss: 0.3547 - accuracy: 0.8441 - val_loss: 0.5708 - val_accuracy: 0.7494\n",
            "Epoch 15/20\n",
            "201/201 [==============================] - 5s 26ms/step - loss: 0.3155 - accuracy: 0.8613 - val_loss: 0.6013 - val_accuracy: 0.7431\n",
            "Epoch 16/20\n",
            "201/201 [==============================] - 5s 27ms/step - loss: 0.2936 - accuracy: 0.8775 - val_loss: 0.6224 - val_accuracy: 0.7319\n",
            "Epoch 17/20\n",
            "201/201 [==============================] - 5s 26ms/step - loss: 0.2714 - accuracy: 0.8907 - val_loss: 0.6846 - val_accuracy: 0.7226\n",
            "Epoch 18/20\n",
            "201/201 [==============================] - 5s 26ms/step - loss: 0.2450 - accuracy: 0.8998 - val_loss: 0.6784 - val_accuracy: 0.7288\n",
            "Epoch 19/20\n",
            "201/201 [==============================] - 5s 27ms/step - loss: 0.2214 - accuracy: 0.9121 - val_loss: 0.7130 - val_accuracy: 0.7288\n",
            "Epoch 20/20\n",
            "201/201 [==============================] - 5s 26ms/step - loss: 0.1946 - accuracy: 0.9249 - val_loss: 0.7067 - val_accuracy: 0.7294\n"
          ],
          "name": "stdout"
        }
      ]
    },
    {
      "cell_type": "code",
      "metadata": {
        "id": "UYeiGr_HoNM8",
        "colab_type": "code",
        "colab": {}
      },
      "source": [
        "model.save('CatVSDogModel.h5')"
      ],
      "execution_count": 0,
      "outputs": []
    },
    {
      "cell_type": "code",
      "metadata": {
        "id": "FrlnmHp0wH1h",
        "colab_type": "code",
        "colab": {}
      },
      "source": [
        "#model=tf.keras.models.load_model('/content/Modells.h5')"
      ],
      "execution_count": 0,
      "outputs": []
    },
    {
      "cell_type": "code",
      "metadata": {
        "id": "kObEX1ixxBJ3",
        "colab_type": "code",
        "colab": {}
      },
      "source": [
        ""
      ],
      "execution_count": 0,
      "outputs": []
    },
    {
      "cell_type": "code",
      "metadata": {
        "id": "18di04nSxYIP",
        "colab_type": "code",
        "colab": {}
      },
      "source": [
        "predicted=model.predict(x_test)"
      ],
      "execution_count": 0,
      "outputs": []
    },
    {
      "cell_type": "code",
      "metadata": {
        "id": "pl_DYeaW-pbP",
        "colab_type": "code",
        "colab": {}
      },
      "source": [
        "c=0\n",
        "for i in predicted:\n",
        "  if i<0.5:\n",
        "    predicted[c]=0\n",
        "  else:\n",
        "    predicted[c]=1\n",
        "  c+=1\n",
        "\n"
      ],
      "execution_count": 0,
      "outputs": []
    },
    {
      "cell_type": "code",
      "metadata": {
        "id": "czXkJCILVHvj",
        "colab_type": "code",
        "outputId": "60583b94-30f8-403e-b05b-58477665f38d",
        "colab": {
          "base_uri": "https://localhost:8080/",
          "height": 34
        }
      },
      "source": [
        "\n",
        "from sklearn.metrics import accuracy_score\n",
        "print('Accuracy:',accuracy_score(y_test,predicted))\n"
      ],
      "execution_count": 0,
      "outputs": [
        {
          "output_type": "stream",
          "text": [
            "Accuracy: 0.744\n"
          ],
          "name": "stdout"
        }
      ]
    },
    {
      "cell_type": "code",
      "metadata": {
        "id": "3YQz5mxsz3xt",
        "colab_type": "code",
        "colab": {}
      },
      "source": [
        "# #import numpy as np\n",
        "# xyz=np.arange(10)\n",
        "# np.save('traikjga.npy',xyz)\n",
        "# tr=np.load('trained_data.npy',allow_pickle=True)"
      ],
      "execution_count": 0,
      "outputs": []
    }
  ]
}